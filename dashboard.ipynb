{
 "cells": [
  {
   "cell_type": "code",
   "execution_count": 126,
   "id": "0b36a18c-0651-4008-a059-13f12947168b",
   "metadata": {},
   "outputs": [],
   "source": [
    "import datetime\n",
    "import time\n",
    "from datetime import timedelta\n",
    "\n",
    "import altair as alt\n",
    "import ipywidgets as widgets\n",
    "import pandas as pd\n",
    "import requests\n",
    "import requests_cache\n",
    "from IPython.display import HTML, Markdown\n",
    "from requests.adapters import HTTPAdapter\n",
    "from requests.packages.urllib3.util.retry import Retry\n",
    "\n",
    "s = requests_cache.CachedSession(expire_after=timedelta(days=1))\n",
    "retries = Retry(total=10, backoff_factor=1, status_forcelist=[502, 503, 504, 524, 429])\n",
    "s.mount(\"http://\", HTTPAdapter(max_retries=retries))\n",
    "s.mount(\"https://\", HTTPAdapter(max_retries=retries))"
   ]
  },
  {
   "cell_type": "code",
   "execution_count": 130,
   "id": "a6383f68-3971-4c92-b6a5-773b01d4db80",
   "metadata": {},
   "outputs": [
    {
     "data": {
      "text/markdown": [
       "\n",
       "# PROV Data dashboard\n",
       "\n",
       "This experimental dashboard uses Public Record Office Victoria's [public API](https://prov.vic.gov.au/prov-collection-api) to provide an overview of the available data.\n"
      ],
      "text/plain": [
       "<IPython.core.display.Markdown object>"
      ]
     },
     "metadata": {},
     "output_type": "display_data"
    },
    {
     "data": {
      "text/html": [
       "\n",
       "<ul class=\"browser-default\">\n",
       "    <li><a href=\"#Overview\">Overview</a></li>\n",
       "    <li><a href=\"#Functions\">Functions</a></li>\n",
       "    <li><a href=\"#Agencies\">Agencies</a></li>\n",
       "    <li><a href=\"#Series\">Series</a></li>\n",
       "    <li><a href=\"#Items\">Items</a></li>\n",
       "    <li><a href=\"#Images\">Images</a></li>\n",
       "</ul>\n"
      ],
      "text/plain": [
       "<IPython.core.display.HTML object>"
      ]
     },
     "metadata": {},
     "output_type": "display_data"
    },
    {
     "data": {
      "text/markdown": [
       "Last updated: 4 April 2025"
      ],
      "text/plain": [
       "<IPython.core.display.Markdown object>"
      ]
     },
     "metadata": {},
     "output_type": "display_data"
    },
    {
     "data": {
      "text/markdown": [
       "\n",
       "----\n",
       "\n",
       "## Overview\n"
      ],
      "text/plain": [
       "<IPython.core.display.Markdown object>"
      ]
     },
     "metadata": {},
     "output_type": "display_data"
    }
   ],
   "source": [
    "display(\n",
    "    Markdown(\n",
    "        \"\"\"\n",
    "# PROV Data dashboard\n",
    "\n",
    "This experimental dashboard uses Public Record Office Victoria's [public API](https://prov.vic.gov.au/prov-collection-api) to provide an overview of the available data.\n",
    "\"\"\"\n",
    "    )\n",
    ")\n",
    "\n",
    "display(\n",
    "    HTML(\n",
    "        \"\"\"\n",
    "<ul class=\"browser-default\">\n",
    "    <li><a href=\"#Overview\">Overview</a></li>\n",
    "    <li><a href=\"#Functions\">Functions</a></li>\n",
    "    <li><a href=\"#Agencies\">Agencies</a></li>\n",
    "    <li><a href=\"#Series\">Series</a></li>\n",
    "    <li><a href=\"#Items\">Items</a></li>\n",
    "    <li><a href=\"#Images\">Images</a></li>\n",
    "</ul>\n",
    "\"\"\"\n",
    "    )\n",
    ")\n",
    "\n",
    "display(Markdown(f\"*Last updated: {datetime.datetime.now().strftime('%-d %B %Y')}*\"))\n",
    "\n",
    "display(\n",
    "    Markdown(\n",
    "        \"\"\"\n",
    "----\n",
    "\n",
    "## Overview\n",
    "\"\"\"\n",
    "    )\n",
    ")"
   ]
  },
  {
   "cell_type": "code",
   "execution_count": 132,
   "id": "d4981637-7578-4b21-8fd3-cf5c73f96811",
   "metadata": {},
   "outputs": [],
   "source": [
    "def get_total_results(params):\n",
    "    api_url = \"https://api.prov.vic.gov.au/search/query\"\n",
    "    response = s.get(api_url, params=params)\n",
    "    data = response.json()\n",
    "    if not \"response\" in data:\n",
    "        print(response.status_code)\n",
    "        print(data)\n",
    "        print(response.headers)\n",
    "    return data[\"response\"][\"numFound\"]\n",
    "\n",
    "\n",
    "def make_facet_chart(\n",
    "    df, title, x_field=\"value\", y_field=\"total\", width=250, height=250\n",
    "):\n",
    "    chart = (\n",
    "        alt.Chart(df)\n",
    "        .mark_bar()\n",
    "        .encode(\n",
    "            x=alt.X(f\"{x_field}:N\", title=None),\n",
    "            y=alt.Y(f\"{y_field}:Q\"),\n",
    "            color=alt.Color(f\"{x_field}:N\", title=field, legend=None),\n",
    "            tooltip=[\n",
    "                alt.Tooltip(x_field, title=field),\n",
    "                alt.Tooltip(y_field, format=\",\"),\n",
    "            ],\n",
    "        )\n",
    "        .properties(width=width, height=height, title=title)\n",
    "    )\n",
    "    return chart\n",
    "\n",
    "\n",
    "def make_grid(field, category=None, query=None):\n",
    "    data_out = widgets.Output()\n",
    "    facets = get_facets(field, query=query)\n",
    "    df = pd.DataFrame(facets)\n",
    "    with data_out:\n",
    "        display(df.style.format(thousands=\",\").hide())\n",
    "    chart_out = widgets.Output()\n",
    "    with chart_out:\n",
    "        display(make_facet_chart(df, field, x_field=field))\n",
    "    grid = widgets.HBox([data_out, chart_out])\n",
    "    return grid\n",
    "\n",
    "\n",
    "def get_entity(category, id_field, id_value):\n",
    "    params = {\"q\": f'category:{category} AND {id_field}:\"{id_value}\"'}\n",
    "    response = s.get(\"https://api.prov.vic.gov.au/search/query\", params=params)\n",
    "    data = response.json()\n",
    "    return data[\"response\"][\"docs\"][0]\n",
    "\n",
    "\n",
    "def get_series(series_id):\n",
    "    series = get_entity(\"Series\", \"series_id\", series_id)\n",
    "    return series\n",
    "\n",
    "\n",
    "def count_items_in_series(series_id, category):\n",
    "    params = {\n",
    "        \"q\": f\"series_id:{series_id} AND category:{category}\",\n",
    "        \"rows\": 0,\n",
    "    }\n",
    "    return get_total_results(params)\n",
    "\n",
    "\n",
    "def get_facets(facet_field, query=None, column=\"total\"):\n",
    "    if not query:\n",
    "        query = \"*\"\n",
    "    params = {\"q\": query, \"facet\": \"true\", \"facet.field\": facet_field, \"rows\": 0}\n",
    "    response = s.get(\"https://api.prov.vic.gov.au/search/query\", params=params)\n",
    "    data = response.json()\n",
    "    values = data[\"facet_counts\"][\"facet_fields\"][facet_field]\n",
    "    facets = [\n",
    "        {facet_field: values[i], column: values[i + 1]}\n",
    "        for i in range(0, len(values), 2)\n",
    "        if values[i + 1] > 0\n",
    "    ]\n",
    "    return facets\n",
    "\n",
    "\n",
    "def get_series_facets(query, column=\"items_digitised\"):\n",
    "    facets = get_facets(\"series_id\", query, column)\n",
    "    return facets\n",
    "\n",
    "\n",
    "def totals_by_decade(query):\n",
    "    totals = []\n",
    "    for year in range(1839, 2039, 10):\n",
    "        date_query = f\"{query} AND start_dt:[1830-01-01 TO {year}-12-31] AND end_dt:[{year}-01-01 TO *]\"\n",
    "        params = {\"q\": date_query, \"rows\": 0}\n",
    "        total = get_total_results(params)\n",
    "        totals.append({\"decade\": f\"{year-9}-{year}\", \"total\": total})\n",
    "    return totals\n",
    "\n",
    "\n",
    "def make_decade_chart(query, title, x_title=\"decade\", y_title=\"total\"):\n",
    "    decade_totals = totals_by_decade(query)\n",
    "    df_decades = pd.DataFrame(decade_totals)\n",
    "    chart = (\n",
    "        alt.Chart(df_decades)\n",
    "        .mark_bar()\n",
    "        .encode(\n",
    "            x=alt.X(\"decade:O\", title=x_title),\n",
    "            y=alt.Y(\"total:Q\", title=y_title),\n",
    "            tooltip=[\n",
    "                alt.Tooltip(\"decade:O\", title=x_title),\n",
    "                alt.Tooltip(\"total:Q\", title=y_title),\n",
    "            ],\n",
    "        )\n",
    "        .properties(title=title, padding=20, width=350, height=250)\n",
    "    )\n",
    "    data_out = widgets.Output()\n",
    "    with data_out:\n",
    "        df_decades = (\n",
    "            df_decades.style.format(thousands=\",\")\n",
    "            .hide()\n",
    "            .set_properties(**{\"text-align\": \"left\"})\n",
    "        )\n",
    "        display(\n",
    "            df_decades.set_table_styles(\n",
    "                [dict(selector=\"th\", props=[(\"text-align\", \"left\")])]\n",
    "            )\n",
    "        )\n",
    "    chart_out = widgets.Output()\n",
    "    with chart_out:\n",
    "        display(chart)\n",
    "    grid = widgets.HBox([data_out, chart_out])\n",
    "    return grid\n",
    "\n",
    "\n",
    "def style_df(df, link_field=None):\n",
    "    if link_field:\n",
    "        df[link_field] = df[link_field].apply(\n",
    "            lambda x: f'<a href=\"https://prov.vic.gov.au/archive/{x}\">{x}</a>'\n",
    "        )\n",
    "    df = df.style.format(thousands=\",\").hide().set_properties(**{\"text-align\": \"left\"})\n",
    "    df = df.set_table_styles([dict(selector=\"th\", props=[(\"text-align\", \"left\")])])\n",
    "    return df"
   ]
  },
  {
   "cell_type": "code",
   "execution_count": 27,
   "id": "d068401d-eb8c-432d-a938-64f058548985",
   "metadata": {},
   "outputs": [
    {
     "data": {
      "text/html": [
       "<h2 class='alert alert-info'>The PROV API currently returns 10,144,068 results.</h2>"
      ],
      "text/plain": [
       "<IPython.core.display.HTML object>"
      ]
     },
     "metadata": {},
     "output_type": "display_data"
    }
   ],
   "source": [
    "total_results = get_total_results({\"q\": \"*\"})\n",
    "\n",
    "display(\n",
    "    HTML(\n",
    "        f\"<h2 class='alert alert-info'>The PROV API currently returns {total_results:,} results.</h2>\"\n",
    "    )\n",
    ")"
   ]
  },
  {
   "cell_type": "code",
   "execution_count": 90,
   "id": "3a3a25f6-79b7-4d93-ab53-cc340ec52a2b",
   "metadata": {
    "scrolled": true
   },
   "outputs": [
    {
     "data": {
      "text/markdown": [
       "\n",
       "The API includes information about a number of different entities described in the [PROV Archival Control Model](https://prov.vic.gov.au/recordkeeping-government/a-z-topics/archival-control-model).\n",
       "\n",
       "The `entity` and `category` fields tell you what sort of data you're dealing with. These charts use facet counts from the API to find the number of results for each value in these fields.\n"
      ],
      "text/plain": [
       "<IPython.core.display.Markdown object>"
      ]
     },
     "metadata": {},
     "output_type": "display_data"
    }
   ],
   "source": [
    "display(\n",
    "    Markdown(\n",
    "        \"\"\"\n",
    "The API includes information about a number of different entities described in the [PROV Archival Control Model](https://prov.vic.gov.au/recordkeeping-government/a-z-topics/archival-control-model).\n",
    "\n",
    "The `entity` and `category` fields tell you what sort of data you're dealing with. The charts below use facet counts from the API to find the number of results for each value in these fields.\n",
    "\"\"\"\n",
    "    )\n",
    ")"
   ]
  },
  {
   "cell_type": "code",
   "execution_count": 133,
   "id": "05ebcd00-ef73-4729-94c5-a3d37045a799",
   "metadata": {},
   "outputs": [
    {
     "data": {
      "text/markdown": [
       "### Entity"
      ],
      "text/plain": [
       "<IPython.core.display.Markdown object>"
      ]
     },
     "metadata": {},
     "output_type": "display_data"
    },
    {
     "data": {
      "text/markdown": [
       "Top-level conceptual entities defined by the PROV's [PROV Archival Control Model](https://prov.vic.gov.au/recordkeeping-government/a-z-topics/archival-control-model)"
      ],
      "text/plain": [
       "<IPython.core.display.Markdown object>"
      ]
     },
     "metadata": {},
     "output_type": "display_data"
    },
    {
     "data": {
      "application/vnd.jupyter.widget-view+json": {
       "model_id": "ca3b450e358240c28c0889d07035e8c3",
       "version_major": 2,
       "version_minor": 0
      },
      "text/plain": [
       "HBox(children=(Output(), Output()))"
      ]
     },
     "metadata": {},
     "output_type": "display_data"
    },
    {
     "data": {
      "text/markdown": [
       "### Category"
      ],
      "text/plain": [
       "<IPython.core.display.Markdown object>"
      ]
     },
     "metadata": {},
     "output_type": "display_data"
    },
    {
     "data": {
      "text/markdown": [
       "A more fine-grained grouping of the descriptive entities used in PROV data – the top-level `Record` entity is sub-divided into `Series`, `Consignment`, `Item`, and `Image`"
      ],
      "text/plain": [
       "<IPython.core.display.Markdown object>"
      ]
     },
     "metadata": {},
     "output_type": "display_data"
    },
    {
     "data": {
      "application/vnd.jupyter.widget-view+json": {
       "model_id": "1a1fc011a4ca43d6bc7e9791d91255b5",
       "version_major": 2,
       "version_minor": 0
      },
      "text/plain": [
       "HBox(children=(Output(), Output()))"
      ]
     },
     "metadata": {},
     "output_type": "display_data"
    }
   ],
   "source": [
    "all_fields = {\n",
    "    \"entity\": \"Top-level conceptual entities defined by the PROV's [PROV Archival Control Model](https://prov.vic.gov.au/recordkeeping-government/a-z-topics/archival-control-model)\",\n",
    "    \"category\": \"A more fine-grained grouping of the descriptive entities used in PROV data – the top-level `Record` entity is sub-divided into `Series`, `Consignment`, `Item`, and `Image`\",\n",
    "}\n",
    "\n",
    "series_fields = {\n",
    "    \"format\": \"Indicates whether a series is in physical or digital format\",\n",
    "    \"location\": \"Indicates where the series is held – values are not exclusive, so an item can be `Online` and in `North Melbourne`\",\n",
    "    \"rights_status\": \"Indicates whether an series' contents and metadata are available for public access\",\n",
    "}\n",
    "\n",
    "item_fields = {\n",
    "    \"format\": \"Indicates whether an item is in physical or digital format\",\n",
    "    \"record_form\": \"Describes the physical format of an item\",\n",
    "    \"location\": \"Indicates where the item is held – values are not exclusive, so an item can be `Online` and in `North Melbourne`\",\n",
    "    \"rights_status\": \"Indicates whether an items's contents and metadata are available for public access\",\n",
    "}\n",
    "\n",
    "for field, note in all_fields.items():\n",
    "    display(Markdown(f\"### {field.title().replace('_', ' ')}\"))\n",
    "    display(Markdown(note))\n",
    "    display(make_grid(field))"
   ]
  },
  {
   "cell_type": "code",
   "execution_count": 97,
   "id": "01132d19-2c24-48c4-b191-d21c8d235d15",
   "metadata": {},
   "outputs": [
    {
     "data": {
      "text/markdown": [
       "\n",
       "----\n",
       "\n",
       "## Functions\n",
       "\n",
       "> The *function entity* in PROV’s ACM represents the major responsibilities of Victorian Government that may be managed by one or more agencies over time. Applying this entity helps to:\n",
       "> - group together various records with the same administrative record context\n",
       "> - links records to their provenance and complementary information.  \n",
       "\n",
       "&mdash; see the [PROV Archival Control Model](https://prov.vic.gov.au/recordkeeping-government/a-z-topics/archival-control-model)\n"
      ],
      "text/plain": [
       "<IPython.core.display.Markdown object>"
      ]
     },
     "metadata": {},
     "output_type": "display_data"
    },
    {
     "data": {
      "text/html": [
       "<h3 class='alert alert-info'>There are 321 functions.</h3>"
      ],
      "text/plain": [
       "<IPython.core.display.HTML object>"
      ]
     },
     "metadata": {},
     "output_type": "display_data"
    }
   ],
   "source": [
    "display(\n",
    "    Markdown(\n",
    "        \"\"\"\n",
    "----\n",
    "\n",
    "## Functions\n",
    "\n",
    "> The *function entity* in PROV’s ACM represents the major responsibilities of Victorian Government that may be managed by one or more agencies over time. Applying this entity helps to:\n",
    "> - group together various records with the same administrative record context\n",
    "> - links records to their provenance and complementary information.  \n",
    "\n",
    "&mdash; see the [PROV Archival Control Model](https://prov.vic.gov.au/recordkeeping-government/a-z-topics/archival-control-model)\n",
    "\"\"\"\n",
    "    )\n",
    ")\n",
    "\n",
    "total_functions = get_total_results({\"q\": \"category:Function\"})\n",
    "display(\n",
    "    HTML(f\"<h3 class='alert alert-info'>There are {total_functions:,} functions.</h3>\")\n",
    ")"
   ]
  },
  {
   "cell_type": "code",
   "execution_count": 104,
   "id": "26fac714-1c6e-48fb-b503-fd845362708f",
   "metadata": {},
   "outputs": [
    {
     "data": {
      "text/markdown": [
       "### Count of agencies by function"
      ],
      "text/plain": [
       "<IPython.core.display.Markdown object>"
      ]
     },
     "metadata": {},
     "output_type": "display_data"
    },
    {
     "data": {
      "text/markdown": [
       "Agencies are responsible for performing government functions. This table shows which functions are most frequently assigned to agencies."
      ],
      "text/plain": [
       "<IPython.core.display.Markdown object>"
      ]
     },
     "metadata": {},
     "output_type": "display_data"
    }
   ],
   "source": [
    "display(Markdown(\"### Count of agencies by function\"))\n",
    "\n",
    "display(\n",
    "    Markdown(\n",
    "        \"Agencies are responsible for performing government functions. This table shows which functions are most frequently assigned to agencies.\"\n",
    "    )\n",
    ")"
   ]
  },
  {
   "cell_type": "code",
   "execution_count": 102,
   "id": "d731dd17-f158-46e9-858a-a4dd0fb7d376",
   "metadata": {},
   "outputs": [
    {
     "data": {
      "text/html": [
       "<style type=\"text/css\">\n",
       "#T_87154 th {\n",
       "  text-align: left;\n",
       "}\n",
       "#T_87154_row0_col0, #T_87154_row0_col1, #T_87154_row0_col2, #T_87154_row1_col0, #T_87154_row1_col1, #T_87154_row1_col2, #T_87154_row2_col0, #T_87154_row2_col1, #T_87154_row2_col2, #T_87154_row3_col0, #T_87154_row3_col1, #T_87154_row3_col2, #T_87154_row4_col0, #T_87154_row4_col1, #T_87154_row4_col2, #T_87154_row5_col0, #T_87154_row5_col1, #T_87154_row5_col2, #T_87154_row6_col0, #T_87154_row6_col1, #T_87154_row6_col2, #T_87154_row7_col0, #T_87154_row7_col1, #T_87154_row7_col2, #T_87154_row8_col0, #T_87154_row8_col1, #T_87154_row8_col2, #T_87154_row9_col0, #T_87154_row9_col1, #T_87154_row9_col2, #T_87154_row10_col0, #T_87154_row10_col1, #T_87154_row10_col2, #T_87154_row11_col0, #T_87154_row11_col1, #T_87154_row11_col2, #T_87154_row12_col0, #T_87154_row12_col1, #T_87154_row12_col2, #T_87154_row13_col0, #T_87154_row13_col1, #T_87154_row13_col2, #T_87154_row14_col0, #T_87154_row14_col1, #T_87154_row14_col2, #T_87154_row15_col0, #T_87154_row15_col1, #T_87154_row15_col2, #T_87154_row16_col0, #T_87154_row16_col1, #T_87154_row16_col2, #T_87154_row17_col0, #T_87154_row17_col1, #T_87154_row17_col2, #T_87154_row18_col0, #T_87154_row18_col1, #T_87154_row18_col2, #T_87154_row19_col0, #T_87154_row19_col1, #T_87154_row19_col2 {\n",
       "  text-align: left;\n",
       "}\n",
       "</style>\n",
       "<table id=\"T_87154\">\n",
       "  <thead>\n",
       "    <tr>\n",
       "      <th id=\"T_87154_level0_col0\" class=\"col_heading level0 col0\" >entity_id</th>\n",
       "      <th id=\"T_87154_level0_col1\" class=\"col_heading level0 col1\" >function</th>\n",
       "      <th id=\"T_87154_level0_col2\" class=\"col_heading level0 col2\" >total_agencies</th>\n",
       "    </tr>\n",
       "  </thead>\n",
       "  <tbody>\n",
       "    <tr>\n",
       "      <td id=\"T_87154_row0_col0\" class=\"data row0 col0\" ><a href=\"https://prov.vic.gov.au/archive/VF382\">VF382</a></td>\n",
       "      <td id=\"T_87154_row0_col1\" class=\"data row0 col1\" >Educational institutions</td>\n",
       "      <td id=\"T_87154_row0_col2\" class=\"data row0 col2\" >422</td>\n",
       "    </tr>\n",
       "    <tr>\n",
       "      <td id=\"T_87154_row1_col0\" class=\"data row1 col0\" ><a href=\"https://prov.vic.gov.au/archive/VF397\">VF397</a></td>\n",
       "      <td id=\"T_87154_row1_col1\" class=\"data row1 col1\" >Municipalities</td>\n",
       "      <td id=\"T_87154_row1_col2\" class=\"data row1 col2\" >129</td>\n",
       "    </tr>\n",
       "    <tr>\n",
       "      <td id=\"T_87154_row2_col0\" class=\"data row2 col0\" ><a href=\"https://prov.vic.gov.au/archive/VF418\">VF418</a></td>\n",
       "      <td id=\"T_87154_row2_col1\" class=\"data row2 col1\" >Water supply</td>\n",
       "      <td id=\"T_87154_row2_col2\" class=\"data row2 col2\" >109</td>\n",
       "    </tr>\n",
       "    <tr>\n",
       "      <td id=\"T_87154_row3_col0\" class=\"data row3 col0\" ><a href=\"https://prov.vic.gov.au/archive/VF381\">VF381</a></td>\n",
       "      <td id=\"T_87154_row3_col1\" class=\"data row3 col1\" >Courts</td>\n",
       "      <td id=\"T_87154_row3_col2\" class=\"data row3 col2\" >60</td>\n",
       "    </tr>\n",
       "    <tr>\n",
       "      <td id=\"T_87154_row4_col0\" class=\"data row4 col0\" ><a href=\"https://prov.vic.gov.au/archive/VF416\">VF416</a></td>\n",
       "      <td id=\"T_87154_row4_col1\" class=\"data row4 col1\" >Water and sewerage authorities</td>\n",
       "      <td id=\"T_87154_row4_col2\" class=\"data row4 col2\" >51</td>\n",
       "    </tr>\n",
       "    <tr>\n",
       "      <td id=\"T_87154_row5_col0\" class=\"data row5 col0\" ><a href=\"https://prov.vic.gov.au/archive/VF125\">VF125</a></td>\n",
       "      <td id=\"T_87154_row5_col1\" class=\"data row5 col1\" >Health, public</td>\n",
       "      <td id=\"T_87154_row5_col2\" class=\"data row5 col2\" >50</td>\n",
       "    </tr>\n",
       "    <tr>\n",
       "      <td id=\"T_87154_row6_col0\" class=\"data row6 col0\" ><a href=\"https://prov.vic.gov.au/archive/VF128\">VF128</a></td>\n",
       "      <td id=\"T_87154_row6_col1\" class=\"data row6 col1\" >Health, mental</td>\n",
       "      <td id=\"T_87154_row6_col2\" class=\"data row6 col2\" >37</td>\n",
       "    </tr>\n",
       "    <tr>\n",
       "      <td id=\"T_87154_row7_col0\" class=\"data row7 col0\" ><a href=\"https://prov.vic.gov.au/archive/VF122\">VF122</a></td>\n",
       "      <td id=\"T_87154_row7_col1\" class=\"data row7 col1\" >Rural water supply</td>\n",
       "      <td id=\"T_87154_row7_col2\" class=\"data row7 col2\" >26</td>\n",
       "    </tr>\n",
       "    <tr>\n",
       "      <td id=\"T_87154_row8_col0\" class=\"data row8 col0\" ><a href=\"https://prov.vic.gov.au/archive/VF28\">VF28</a></td>\n",
       "      <td id=\"T_87154_row8_col1\" class=\"data row8 col1\" >Cemeteries</td>\n",
       "      <td id=\"T_87154_row8_col2\" class=\"data row8 col2\" >25</td>\n",
       "    </tr>\n",
       "    <tr>\n",
       "      <td id=\"T_87154_row9_col0\" class=\"data row9 col0\" ><a href=\"https://prov.vic.gov.au/archive/VF11\">VF11</a></td>\n",
       "      <td id=\"T_87154_row9_col1\" class=\"data row9 col1\" >Ports and harbours</td>\n",
       "      <td id=\"T_87154_row9_col2\" class=\"data row9 col2\" >21</td>\n",
       "    </tr>\n",
       "    <tr>\n",
       "      <td id=\"T_87154_row10_col0\" class=\"data row10 col0\" ><a href=\"https://prov.vic.gov.au/archive/VF24\">VF24</a></td>\n",
       "      <td id=\"T_87154_row10_col1\" class=\"data row10 col1\" >Geological survey</td>\n",
       "      <td id=\"T_87154_row10_col2\" class=\"data row10 col2\" >21</td>\n",
       "    </tr>\n",
       "    <tr>\n",
       "      <td id=\"T_87154_row11_col0\" class=\"data row11 col0\" ><a href=\"https://prov.vic.gov.au/archive/VF19\">VF19</a></td>\n",
       "      <td id=\"T_87154_row11_col1\" class=\"data row11 col1\" >Education</td>\n",
       "      <td id=\"T_87154_row11_col2\" class=\"data row11 col2\" >19</td>\n",
       "    </tr>\n",
       "    <tr>\n",
       "      <td id=\"T_87154_row12_col0\" class=\"data row12 col0\" ><a href=\"https://prov.vic.gov.au/archive/VF47\">VF47</a></td>\n",
       "      <td id=\"T_87154_row12_col1\" class=\"data row12 col1\" >Electric light and power</td>\n",
       "      <td id=\"T_87154_row12_col2\" class=\"data row12 col2\" >19</td>\n",
       "    </tr>\n",
       "    <tr>\n",
       "      <td id=\"T_87154_row13_col0\" class=\"data row13 col0\" ><a href=\"https://prov.vic.gov.au/archive/VF229\">VF229</a></td>\n",
       "      <td id=\"T_87154_row13_col1\" class=\"data row13 col1\" >Research institutes</td>\n",
       "      <td id=\"T_87154_row13_col2\" class=\"data row13 col2\" >18</td>\n",
       "    </tr>\n",
       "    <tr>\n",
       "      <td id=\"T_87154_row14_col0\" class=\"data row14 col0\" ><a href=\"https://prov.vic.gov.au/archive/VF30\">VF30</a></td>\n",
       "      <td id=\"T_87154_row14_col1\" class=\"data row14 col1\" >Forests</td>\n",
       "      <td id=\"T_87154_row14_col2\" class=\"data row14 col2\" >18</td>\n",
       "    </tr>\n",
       "    <tr>\n",
       "      <td id=\"T_87154_row15_col0\" class=\"data row15 col0\" ><a href=\"https://prov.vic.gov.au/archive/VF249\">VF249</a></td>\n",
       "      <td id=\"T_87154_row15_col1\" class=\"data row15 col1\" >Intellectual disability services</td>\n",
       "      <td id=\"T_87154_row15_col2\" class=\"data row15 col2\" >17</td>\n",
       "    </tr>\n",
       "    <tr>\n",
       "      <td id=\"T_87154_row16_col0\" class=\"data row16 col0\" ><a href=\"https://prov.vic.gov.au/archive/VF286\">VF286</a></td>\n",
       "      <td id=\"T_87154_row16_col1\" class=\"data row16 col1\" >Agent-general and trade commissioners</td>\n",
       "      <td id=\"T_87154_row16_col2\" class=\"data row16 col2\" >17</td>\n",
       "    </tr>\n",
       "    <tr>\n",
       "      <td id=\"T_87154_row17_col0\" class=\"data row17 col0\" ><a href=\"https://prov.vic.gov.au/archive/VF175\">VF175</a></td>\n",
       "      <td id=\"T_87154_row17_col1\" class=\"data row17 col1\" >Aboriginal affairs</td>\n",
       "      <td id=\"T_87154_row17_col2\" class=\"data row17 col2\" >16</td>\n",
       "    </tr>\n",
       "    <tr>\n",
       "      <td id=\"T_87154_row18_col0\" class=\"data row18 col0\" ><a href=\"https://prov.vic.gov.au/archive/VF220\">VF220</a></td>\n",
       "      <td id=\"T_87154_row18_col1\" class=\"data row18 col1\" >[not found]</td>\n",
       "      <td id=\"T_87154_row18_col2\" class=\"data row18 col2\" >16</td>\n",
       "    </tr>\n",
       "    <tr>\n",
       "      <td id=\"T_87154_row19_col0\" class=\"data row19 col0\" ><a href=\"https://prov.vic.gov.au/archive/VF230\">VF230</a></td>\n",
       "      <td id=\"T_87154_row19_col1\" class=\"data row19 col1\" >Fisheries, commercial licences</td>\n",
       "      <td id=\"T_87154_row19_col2\" class=\"data row19 col2\" >16</td>\n",
       "    </tr>\n",
       "  </tbody>\n",
       "</table>\n"
      ],
      "text/plain": [
       "<pandas.io.formats.style.Styler at 0x788dd41532b0>"
      ]
     },
     "metadata": {},
     "output_type": "display_data"
    }
   ],
   "source": [
    "functions = []\n",
    "for facet in get_facets(\n",
    "    \"entity_id\",\n",
    "    'category:relatedEntity AND relationship:\"Primary responsible agency\"',\n",
    "    \"total_agencies\",\n",
    ")[:20]:\n",
    "    try:\n",
    "        function = get_entity(\n",
    "            \"Function\",\n",
    "            \"identifier.PROV_ACM.id\",\n",
    "            facet[\"entity_id\"].replace(\"VF\", \"VF \"),\n",
    "        )\n",
    "    except IndexError:\n",
    "        facet[\"function\"] = \"[not found]\"\n",
    "    else:\n",
    "        facet[\"function\"] = function[\"title\"]\n",
    "    functions.append(facet)\n",
    "df_functions = pd.DataFrame(functions)[[\"entity_id\", \"function\", \"total_agencies\"]]\n",
    "display(style_df(df_functions, link_field=\"entity_id\"))"
   ]
  },
  {
   "cell_type": "code",
   "execution_count": 98,
   "id": "29ee52c2-677c-4352-a072-bbed1de04f18",
   "metadata": {},
   "outputs": [
    {
     "data": {
      "text/markdown": [
       "\n",
       "----\n",
       "\n",
       "## Agencies\n",
       "\n",
       "> The *agent entity* in PROV’s ACM represents a Victorian Government agency—an administrative unit which has or had responsibility for the provision of at least one aspect of government administration. This entity helps to provide a description of a record’s context, namely who created the records and for what purpose.\n",
       "\n",
       "&mdash; see the [PROV Archival Control Model](https://prov.vic.gov.au/recordkeeping-government/a-z-topics/archival-control-model)\n"
      ],
      "text/plain": [
       "<IPython.core.display.Markdown object>"
      ]
     },
     "metadata": {},
     "output_type": "display_data"
    },
    {
     "data": {
      "text/html": [
       "<h3 class='alert alert-info'>There are 3,171 agencies.</h3>"
      ],
      "text/plain": [
       "<IPython.core.display.HTML object>"
      ]
     },
     "metadata": {},
     "output_type": "display_data"
    }
   ],
   "source": [
    "display(\n",
    "    Markdown(\n",
    "        \"\"\"\n",
    "----\n",
    "\n",
    "## Agencies\n",
    "\n",
    "> The *agent entity* in PROV’s ACM represents a Victorian Government agency—an administrative unit which has or had responsibility for the provision of at least one aspect of government administration. This entity helps to provide a description of a record’s context, namely who created the records and for what purpose.\n",
    "\n",
    "&mdash; see the [PROV Archival Control Model](https://prov.vic.gov.au/recordkeeping-government/a-z-topics/archival-control-model)\n",
    "\"\"\"\n",
    "    )\n",
    ")\n",
    "\n",
    "total_agencies = get_total_results({\"q\": \"category:Agency\"})\n",
    "display(\n",
    "    HTML(f\"<h3 class='alert alert-info'>There are {total_agencies:,} agencies.</h3>\")\n",
    ")"
   ]
  },
  {
   "cell_type": "code",
   "execution_count": 111,
   "id": "2721f0bc-6ce8-454c-bf85-5c5a700d2fa7",
   "metadata": {},
   "outputs": [
    {
     "data": {
      "text/markdown": [
       "\n",
       "\n",
       "### Count of agencies by decade\n",
       "\n",
       "This chart shows the number of agencies whose life dates overlap with each decade from 1830.\n",
       "\n"
      ],
      "text/plain": [
       "<IPython.core.display.Markdown object>"
      ]
     },
     "metadata": {},
     "output_type": "display_data"
    }
   ],
   "source": [
    "display(Markdown(\"\"\"\n",
    "\n",
    "### Count of agencies by decade\n",
    "\n",
    "This chart shows the number of agencies whose life dates overlap with each decade from 1830.\n",
    "\n",
    "\"\"\"))"
   ]
  },
  {
   "cell_type": "code",
   "execution_count": 32,
   "id": "38478e20-b0db-4281-968a-cebe8ef80298",
   "metadata": {},
   "outputs": [
    {
     "data": {
      "application/vnd.jupyter.widget-view+json": {
       "model_id": "388b2e616d7b4c5c97f372239f2a26ee",
       "version_major": 2,
       "version_minor": 0
      },
      "text/plain": [
       "HBox(children=(Output(), Output()))"
      ]
     },
     "execution_count": 32,
     "metadata": {},
     "output_type": "execute_result"
    }
   ],
   "source": [
    "make_decade_chart(\n",
    "    \"category:Agency\", title=\"Agencies by decade\", y_title=\"number of agencies\"\n",
    ")"
   ]
  },
  {
   "cell_type": "code",
   "execution_count": 112,
   "id": "73a672cf-f578-4242-98dc-38d1dab5da73",
   "metadata": {},
   "outputs": [
    {
     "data": {
      "text/markdown": [
       "\n",
       "\n",
       "### Count of functions by agency (top 20)\n",
       "\n",
       "Agencies perform functions. This table shows which agencies are responsible for the most functions.\n",
       "\n"
      ],
      "text/plain": [
       "<IPython.core.display.Markdown object>"
      ]
     },
     "metadata": {},
     "output_type": "display_data"
    }
   ],
   "source": [
    "display(Markdown(\"\"\"\n",
    "\n",
    "### Count of functions by agency (top 20)\n",
    "\n",
    "Agencies perform functions. This table shows which agencies are responsible for the most functions.\n",
    "\n",
    "\"\"\"))"
   ]
  },
  {
   "cell_type": "code",
   "execution_count": 41,
   "id": "5e019b19-fb43-4abe-8a8c-d109749ac52a",
   "metadata": {},
   "outputs": [
    {
     "data": {
      "text/html": [
       "<style type=\"text/css\">\n",
       "#T_8e5bb th {\n",
       "  text-align: left;\n",
       "}\n",
       "#T_8e5bb_row0_col0, #T_8e5bb_row0_col1, #T_8e5bb_row0_col2, #T_8e5bb_row1_col0, #T_8e5bb_row1_col1, #T_8e5bb_row1_col2, #T_8e5bb_row2_col0, #T_8e5bb_row2_col1, #T_8e5bb_row2_col2, #T_8e5bb_row3_col0, #T_8e5bb_row3_col1, #T_8e5bb_row3_col2, #T_8e5bb_row4_col0, #T_8e5bb_row4_col1, #T_8e5bb_row4_col2, #T_8e5bb_row5_col0, #T_8e5bb_row5_col1, #T_8e5bb_row5_col2, #T_8e5bb_row6_col0, #T_8e5bb_row6_col1, #T_8e5bb_row6_col2, #T_8e5bb_row7_col0, #T_8e5bb_row7_col1, #T_8e5bb_row7_col2, #T_8e5bb_row8_col0, #T_8e5bb_row8_col1, #T_8e5bb_row8_col2, #T_8e5bb_row9_col0, #T_8e5bb_row9_col1, #T_8e5bb_row9_col2, #T_8e5bb_row10_col0, #T_8e5bb_row10_col1, #T_8e5bb_row10_col2, #T_8e5bb_row11_col0, #T_8e5bb_row11_col1, #T_8e5bb_row11_col2, #T_8e5bb_row12_col0, #T_8e5bb_row12_col1, #T_8e5bb_row12_col2, #T_8e5bb_row13_col0, #T_8e5bb_row13_col1, #T_8e5bb_row13_col2, #T_8e5bb_row14_col0, #T_8e5bb_row14_col1, #T_8e5bb_row14_col2, #T_8e5bb_row15_col0, #T_8e5bb_row15_col1, #T_8e5bb_row15_col2, #T_8e5bb_row16_col0, #T_8e5bb_row16_col1, #T_8e5bb_row16_col2, #T_8e5bb_row17_col0, #T_8e5bb_row17_col1, #T_8e5bb_row17_col2, #T_8e5bb_row18_col0, #T_8e5bb_row18_col1, #T_8e5bb_row18_col2, #T_8e5bb_row19_col0, #T_8e5bb_row19_col1, #T_8e5bb_row19_col2 {\n",
       "  text-align: left;\n",
       "}\n",
       "</style>\n",
       "<table id=\"T_8e5bb\">\n",
       "  <thead>\n",
       "    <tr>\n",
       "      <th id=\"T_8e5bb_level0_col0\" class=\"col_heading level0 col0\" >agency_id</th>\n",
       "      <th id=\"T_8e5bb_level0_col1\" class=\"col_heading level0 col1\" >agency_title</th>\n",
       "      <th id=\"T_8e5bb_level0_col2\" class=\"col_heading level0 col2\" >total_functions</th>\n",
       "    </tr>\n",
       "  </thead>\n",
       "  <tbody>\n",
       "    <tr>\n",
       "      <td id=\"T_8e5bb_row0_col0\" class=\"data row0 col0\" ><a href=\"https://prov.vic.gov.au/archive/VA475\">VA475</a></td>\n",
       "      <td id=\"T_8e5bb_row0_col1\" class=\"data row0 col1\" >Chief Secretary's Department</td>\n",
       "      <td id=\"T_8e5bb_row0_col2\" class=\"data row0 col2\" >69</td>\n",
       "    </tr>\n",
       "    <tr>\n",
       "      <td id=\"T_8e5bb_row1_col0\" class=\"data row1 col0\" ><a href=\"https://prov.vic.gov.au/archive/VA538\">VA538</a></td>\n",
       "      <td id=\"T_8e5bb_row1_col1\" class=\"data row1 col1\" >Department of Crown Lands and Survey</td>\n",
       "      <td id=\"T_8e5bb_row1_col2\" class=\"data row1 col2\" >34</td>\n",
       "    </tr>\n",
       "    <tr>\n",
       "      <td id=\"T_8e5bb_row2_col0\" class=\"data row2 col0\" ><a href=\"https://prov.vic.gov.au/archive/VA669\">VA669</a></td>\n",
       "      <td id=\"T_8e5bb_row2_col1\" class=\"data row2 col1\" >Public Works Department (previously the Department of the Commissioner of Public Works)</td>\n",
       "      <td id=\"T_8e5bb_row2_col2\" class=\"data row2 col2\" >29</td>\n",
       "    </tr>\n",
       "    <tr>\n",
       "      <td id=\"T_8e5bb_row3_col0\" class=\"data row3 col0\" ><a href=\"https://prov.vic.gov.au/archive/VA1039\">VA1039</a></td>\n",
       "      <td id=\"T_8e5bb_row3_col1\" class=\"data row3 col1\" >Department of Premier and Cabinet</td>\n",
       "      <td id=\"T_8e5bb_row3_col2\" class=\"data row3 col2\" >25</td>\n",
       "    </tr>\n",
       "    <tr>\n",
       "      <td id=\"T_8e5bb_row4_col0\" class=\"data row4 col0\" ><a href=\"https://prov.vic.gov.au/archive/VA3970\">VA3970</a></td>\n",
       "      <td id=\"T_8e5bb_row4_col1\" class=\"data row4 col1\" >Department of Human Services</td>\n",
       "      <td id=\"T_8e5bb_row4_col2\" class=\"data row4 col2\" >25</td>\n",
       "    </tr>\n",
       "    <tr>\n",
       "      <td id=\"T_8e5bb_row5_col0\" class=\"data row5 col0\" ><a href=\"https://prov.vic.gov.au/archive/VA5037\">VA5037</a></td>\n",
       "      <td id=\"T_8e5bb_row5_col1\" class=\"data row5 col1\" >Department of Health and Human Services</td>\n",
       "      <td id=\"T_8e5bb_row5_col2\" class=\"data row5 col2\" >25</td>\n",
       "    </tr>\n",
       "    <tr>\n",
       "      <td id=\"T_8e5bb_row6_col0\" class=\"data row6 col0\" ><a href=\"https://prov.vic.gov.au/archive/VA3972\">VA3972</a></td>\n",
       "      <td id=\"T_8e5bb_row6_col1\" class=\"data row6 col1\" >Department of Natural Resources and the Environment</td>\n",
       "      <td id=\"T_8e5bb_row6_col2\" class=\"data row6 col2\" >24</td>\n",
       "    </tr>\n",
       "    <tr>\n",
       "      <td id=\"T_8e5bb_row7_col0\" class=\"data row7 col0\" ><a href=\"https://prov.vic.gov.au/archive/VA856\">VA856</a></td>\n",
       "      <td id=\"T_8e5bb_row7_col1\" class=\"data row7 col1\" >Colonial Secretary's Office</td>\n",
       "      <td id=\"T_8e5bb_row7_col2\" class=\"data row7 col2\" >24</td>\n",
       "    </tr>\n",
       "    <tr>\n",
       "      <td id=\"T_8e5bb_row8_col0\" class=\"data row8 col0\" ><a href=\"https://prov.vic.gov.au/archive/VA430\">VA430</a></td>\n",
       "      <td id=\"T_8e5bb_row8_col1\" class=\"data row8 col1\" >Department of Property and Services</td>\n",
       "      <td id=\"T_8e5bb_row8_col2\" class=\"data row8 col2\" >23</td>\n",
       "    </tr>\n",
       "    <tr>\n",
       "      <td id=\"T_8e5bb_row9_col0\" class=\"data row9 col0\" ><a href=\"https://prov.vic.gov.au/archive/VA5251\">VA5251</a></td>\n",
       "      <td id=\"T_8e5bb_row9_col1\" class=\"data row9 col1\" >Department of Jobs, Precincts and Regions</td>\n",
       "      <td id=\"T_8e5bb_row9_col2\" class=\"data row9 col2\" >23</td>\n",
       "    </tr>\n",
       "    <tr>\n",
       "      <td id=\"T_8e5bb_row10_col0\" class=\"data row10 col0\" ><a href=\"https://prov.vic.gov.au/archive/VA5034\">VA5034</a></td>\n",
       "      <td id=\"T_8e5bb_row10_col1\" class=\"data row10 col1\" >Department of Economic Development, Jobs, Transport and Resources</td>\n",
       "      <td id=\"T_8e5bb_row10_col2\" class=\"data row10 col2\" >22</td>\n",
       "    </tr>\n",
       "    <tr>\n",
       "      <td id=\"T_8e5bb_row11_col0\" class=\"data row11 col0\" ><a href=\"https://prov.vic.gov.au/archive/VA5285\">VA5285</a></td>\n",
       "      <td id=\"T_8e5bb_row11_col1\" class=\"data row11 col1\" >Department of Energy, Environment and Climate Action </td>\n",
       "      <td id=\"T_8e5bb_row11_col2\" class=\"data row11 col2\" >22</td>\n",
       "    </tr>\n",
       "    <tr>\n",
       "      <td id=\"T_8e5bb_row12_col0\" class=\"data row12 col0\" ><a href=\"https://prov.vic.gov.au/archive/VA3004\">VA3004</a></td>\n",
       "      <td id=\"T_8e5bb_row12_col1\" class=\"data row12 col1\" >Department of Conservation and Environment</td>\n",
       "      <td id=\"T_8e5bb_row12_col2\" class=\"data row12 col2\" >21</td>\n",
       "    </tr>\n",
       "    <tr>\n",
       "      <td id=\"T_8e5bb_row13_col0\" class=\"data row13 col0\" ><a href=\"https://prov.vic.gov.au/archive/VA3092\">VA3092</a></td>\n",
       "      <td id=\"T_8e5bb_row13_col1\" class=\"data row13 col1\" >Department of Health and Community Services</td>\n",
       "      <td id=\"T_8e5bb_row13_col2\" class=\"data row13 col2\" >21</td>\n",
       "    </tr>\n",
       "    <tr>\n",
       "      <td id=\"T_8e5bb_row14_col0\" class=\"data row14 col0\" ><a href=\"https://prov.vic.gov.au/archive/VA473\">VA473</a></td>\n",
       "      <td id=\"T_8e5bb_row14_col1\" class=\"data row14 col1\" >Superintendent, Port Phillip District</td>\n",
       "      <td id=\"T_8e5bb_row14_col2\" class=\"data row14 col2\" >21</td>\n",
       "    </tr>\n",
       "    <tr>\n",
       "      <td id=\"T_8e5bb_row15_col0\" class=\"data row15 col0\" ><a href=\"https://prov.vic.gov.au/archive/VA5284\">VA5284</a></td>\n",
       "      <td id=\"T_8e5bb_row15_col1\" class=\"data row15 col1\" >Department of Jobs, Skills, Industry and Regions</td>\n",
       "      <td id=\"T_8e5bb_row15_col2\" class=\"data row15 col2\" >21</td>\n",
       "    </tr>\n",
       "    <tr>\n",
       "      <td id=\"T_8e5bb_row16_col0\" class=\"data row16 col0\" ><a href=\"https://prov.vic.gov.au/archive/VA1034\">VA1034</a></td>\n",
       "      <td id=\"T_8e5bb_row16_col1\" class=\"data row16 col1\" >Department of Conservation, Forests and Lands</td>\n",
       "      <td id=\"T_8e5bb_row16_col2\" class=\"data row16 col2\" >20</td>\n",
       "    </tr>\n",
       "    <tr>\n",
       "      <td id=\"T_8e5bb_row17_col0\" class=\"data row17 col0\" ><a href=\"https://prov.vic.gov.au/archive/VA3097\">VA3097</a></td>\n",
       "      <td id=\"T_8e5bb_row17_col1\" class=\"data row17 col1\" >Department of Conservation and Natural Resources</td>\n",
       "      <td id=\"T_8e5bb_row17_col2\" class=\"data row17 col2\" >20</td>\n",
       "    </tr>\n",
       "    <tr>\n",
       "      <td id=\"T_8e5bb_row18_col0\" class=\"data row18 col0\" ><a href=\"https://prov.vic.gov.au/archive/VA2633\">VA2633</a></td>\n",
       "      <td id=\"T_8e5bb_row18_col1\" class=\"data row18 col1\" >Department of Community Services (also known as Community Services Victoria)</td>\n",
       "      <td id=\"T_8e5bb_row18_col2\" class=\"data row18 col2\" >19</td>\n",
       "    </tr>\n",
       "    <tr>\n",
       "      <td id=\"T_8e5bb_row19_col0\" class=\"data row19 col0\" ><a href=\"https://prov.vic.gov.au/archive/VA3016\">VA3016</a></td>\n",
       "      <td id=\"T_8e5bb_row19_col1\" class=\"data row19 col1\" >Department of Finance (previously known as Ministry of Finance 1991-1992)</td>\n",
       "      <td id=\"T_8e5bb_row19_col2\" class=\"data row19 col2\" >19</td>\n",
       "    </tr>\n",
       "  </tbody>\n",
       "</table>\n"
      ],
      "text/plain": [
       "<pandas.io.formats.style.Styler at 0x788ddb9dcb80>"
      ]
     },
     "metadata": {},
     "output_type": "display_data"
    }
   ],
   "source": [
    "agencies = []\n",
    "for facet in get_facets(\n",
    "    \"related_entity_id\",\n",
    "    'category:relatedEntity AND relationship:\"Primary responsible agency\"',\n",
    "    \"total_functions\",\n",
    ")[:20]:\n",
    "    agency = get_entity(\n",
    "        \"Agency\",\n",
    "        \"identifier.PROV_ACM.id\",\n",
    "        facet[\"related_entity_id\"].replace(\"VA\", \"VA \"),\n",
    "    )\n",
    "    facet[\"agency_title\"] = agency[\"title\"]\n",
    "    facet[\"agency_id\"] = facet[\"related_entity_id\"]\n",
    "    agencies.append(facet)\n",
    "df_agencies = pd.DataFrame(agencies)[[\"agency_id\", \"agency_title\", \"total_functions\"]]\n",
    "display(style_df(df_agencies, link_field=\"agency_id\"))"
   ]
  },
  {
   "cell_type": "code",
   "execution_count": 114,
   "id": "711a3dae-ff1f-46d4-8b6b-588188c7440c",
   "metadata": {},
   "outputs": [
    {
     "data": {
      "text/markdown": [
       "\n",
       "\n",
       "### Count of series by agency (top 20)\n",
       "\n",
       "Agencies create and manage series. This chart shows the agencies that have created the most series.\n",
       "\n"
      ],
      "text/plain": [
       "<IPython.core.display.Markdown object>"
      ]
     },
     "metadata": {},
     "output_type": "display_data"
    }
   ],
   "source": [
    "display(Markdown(\"\"\"\n",
    "\n",
    "### Count of series by agency (top 20)\n",
    "\n",
    "Agencies create and manage series. This chart shows the agencies that have created the most series.\n",
    "\n",
    "\"\"\"))"
   ]
  },
  {
   "cell_type": "code",
   "execution_count": 100,
   "id": "ca1d2798-5269-4a09-aac8-fed3f22aa220",
   "metadata": {},
   "outputs": [
    {
     "data": {
      "text/html": [
       "<style type=\"text/css\">\n",
       "#T_14d08 th {\n",
       "  text-align: left;\n",
       "}\n",
       "#T_14d08_row0_col0, #T_14d08_row0_col1, #T_14d08_row0_col2, #T_14d08_row1_col0, #T_14d08_row1_col1, #T_14d08_row1_col2, #T_14d08_row2_col0, #T_14d08_row2_col1, #T_14d08_row2_col2, #T_14d08_row3_col0, #T_14d08_row3_col1, #T_14d08_row3_col2, #T_14d08_row4_col0, #T_14d08_row4_col1, #T_14d08_row4_col2, #T_14d08_row5_col0, #T_14d08_row5_col1, #T_14d08_row5_col2, #T_14d08_row6_col0, #T_14d08_row6_col1, #T_14d08_row6_col2, #T_14d08_row7_col0, #T_14d08_row7_col1, #T_14d08_row7_col2, #T_14d08_row8_col0, #T_14d08_row8_col1, #T_14d08_row8_col2, #T_14d08_row9_col0, #T_14d08_row9_col1, #T_14d08_row9_col2, #T_14d08_row10_col0, #T_14d08_row10_col1, #T_14d08_row10_col2, #T_14d08_row11_col0, #T_14d08_row11_col1, #T_14d08_row11_col2, #T_14d08_row12_col0, #T_14d08_row12_col1, #T_14d08_row12_col2, #T_14d08_row13_col0, #T_14d08_row13_col1, #T_14d08_row13_col2, #T_14d08_row14_col0, #T_14d08_row14_col1, #T_14d08_row14_col2, #T_14d08_row15_col0, #T_14d08_row15_col1, #T_14d08_row15_col2, #T_14d08_row16_col0, #T_14d08_row16_col1, #T_14d08_row16_col2, #T_14d08_row17_col0, #T_14d08_row17_col1, #T_14d08_row17_col2, #T_14d08_row18_col0, #T_14d08_row18_col1, #T_14d08_row18_col2, #T_14d08_row19_col0, #T_14d08_row19_col1, #T_14d08_row19_col2 {\n",
       "  text-align: left;\n",
       "}\n",
       "</style>\n",
       "<table id=\"T_14d08\">\n",
       "  <thead>\n",
       "    <tr>\n",
       "      <th id=\"T_14d08_level0_col0\" class=\"col_heading level0 col0\" >agency_id</th>\n",
       "      <th id=\"T_14d08_level0_col1\" class=\"col_heading level0 col1\" >agency_title</th>\n",
       "      <th id=\"T_14d08_level0_col2\" class=\"col_heading level0 col2\" >total_series</th>\n",
       "    </tr>\n",
       "  </thead>\n",
       "  <tbody>\n",
       "    <tr>\n",
       "      <td id=\"T_14d08_row0_col0\" class=\"data row0 col0\" ><a href=\"https://prov.vic.gov.au/archive/VA538\">VA538</a></td>\n",
       "      <td id=\"T_14d08_row0_col1\" class=\"data row0 col1\" >Department of Crown Lands and Survey</td>\n",
       "      <td id=\"T_14d08_row0_col2\" class=\"data row0 col2\" >1,254</td>\n",
       "    </tr>\n",
       "    <tr>\n",
       "      <td id=\"T_14d08_row1_col0\" class=\"data row1 col0\" ><a href=\"https://prov.vic.gov.au/archive/VA2876\">VA2876</a></td>\n",
       "      <td id=\"T_14d08_row1_col1\" class=\"data row1 col1\" >Victorian Railways (also Victorian Railways Commissioners 1883-1973, Victorian Railways Board 1973-1983)</td>\n",
       "      <td id=\"T_14d08_row1_col2\" class=\"data row1 col2\" >291</td>\n",
       "    </tr>\n",
       "    <tr>\n",
       "      <td id=\"T_14d08_row2_col0\" class=\"data row2 col0\" ><a href=\"https://prov.vic.gov.au/archive/VA714\">VA714</a></td>\n",
       "      <td id=\"T_14d08_row2_col1\" class=\"data row2 col1\" >Education Department</td>\n",
       "      <td id=\"T_14d08_row2_col2\" class=\"data row2 col2\" >255</td>\n",
       "    </tr>\n",
       "    <tr>\n",
       "      <td id=\"T_14d08_row3_col0\" class=\"data row3 col0\" ><a href=\"https://prov.vic.gov.au/archive/VA865\">VA865</a></td>\n",
       "      <td id=\"T_14d08_row3_col1\" class=\"data row3 col1\" >Department of the Treasurer (also known as Treasury and Treasurer's Office)</td>\n",
       "      <td id=\"T_14d08_row3_col2\" class=\"data row3 col2\" >255</td>\n",
       "    </tr>\n",
       "    <tr>\n",
       "      <td id=\"T_14d08_row4_col0\" class=\"data row4 col0\" ><a href=\"https://prov.vic.gov.au/archive/VA669\">VA669</a></td>\n",
       "      <td id=\"T_14d08_row4_col1\" class=\"data row4 col1\" >Public Works Department (previously the Department of the Commissioner of Public Works)</td>\n",
       "      <td id=\"T_14d08_row4_col2\" class=\"data row4 col2\" >190</td>\n",
       "    </tr>\n",
       "    <tr>\n",
       "      <td id=\"T_14d08_row5_col0\" class=\"data row5 col0\" ><a href=\"https://prov.vic.gov.au/archive/VA2549\">VA2549</a></td>\n",
       "      <td id=\"T_14d08_row5_col1\" class=\"data row5 col1\" >Supreme Court of Victoria</td>\n",
       "      <td id=\"T_14d08_row5_col2\" class=\"data row5 col2\" >189</td>\n",
       "    </tr>\n",
       "    <tr>\n",
       "      <td id=\"T_14d08_row6_col0\" class=\"data row6 col0\" ><a href=\"https://prov.vic.gov.au/archive/VA511\">VA511</a></td>\n",
       "      <td id=\"T_14d08_row6_col1\" class=\"data row6 col1\" >Melbourne (Town 1842-1847; City 1847-ct)</td>\n",
       "      <td id=\"T_14d08_row6_col2\" class=\"data row6 col2\" >185</td>\n",
       "    </tr>\n",
       "    <tr>\n",
       "      <td id=\"T_14d08_row7_col0\" class=\"data row7 col0\" ><a href=\"https://prov.vic.gov.au/archive/VA475\">VA475</a></td>\n",
       "      <td id=\"T_14d08_row7_col1\" class=\"data row7 col1\" >Chief Secretary's Department</td>\n",
       "      <td id=\"T_14d08_row7_col2\" class=\"data row7 col2\" >178</td>\n",
       "    </tr>\n",
       "    <tr>\n",
       "      <td id=\"T_14d08_row8_col0\" class=\"data row8 col0\" ><a href=\"https://prov.vic.gov.au/archive/VA1002\">VA1002</a></td>\n",
       "      <td id=\"T_14d08_row8_col1\" class=\"data row8 col1\" >State Electricity Commission of Victoria I (previously known as the Electricity Commissioners, 1919 to 1921)</td>\n",
       "      <td id=\"T_14d08_row8_col2\" class=\"data row8 col2\" >174</td>\n",
       "    </tr>\n",
       "    <tr>\n",
       "      <td id=\"T_14d08_row9_col0\" class=\"data row9 col0\" ><a href=\"https://prov.vic.gov.au/archive/VA2984\">VA2984</a></td>\n",
       "      <td id=\"T_14d08_row9_col1\" class=\"data row9 col1\" >Public Transport Corporation</td>\n",
       "      <td id=\"T_14d08_row9_col2\" class=\"data row9 col2\" >122</td>\n",
       "    </tr>\n",
       "    <tr>\n",
       "      <td id=\"T_14d08_row10_col0\" class=\"data row10 col0\" ><a href=\"https://prov.vic.gov.au/archive/VA2694\">VA2694</a></td>\n",
       "      <td id=\"T_14d08_row10_col1\" class=\"data row10 col1\" >Melbourne and Metropolitan Tramways Board</td>\n",
       "      <td id=\"T_14d08_row10_col2\" class=\"data row10 col2\" >120</td>\n",
       "    </tr>\n",
       "    <tr>\n",
       "      <td id=\"T_14d08_row11_col0\" class=\"data row11 col0\" ><a href=\"https://prov.vic.gov.au/archive/VA852\">VA852</a></td>\n",
       "      <td id=\"T_14d08_row11_col1\" class=\"data row11 col1\" >Royal Mint, Melbourne Branch</td>\n",
       "      <td id=\"T_14d08_row11_col2\" class=\"data row11 col2\" >115</td>\n",
       "    </tr>\n",
       "    <tr>\n",
       "      <td id=\"T_14d08_row12_col0\" class=\"data row12 col0\" ><a href=\"https://prov.vic.gov.au/archive/VA1048\">VA1048</a></td>\n",
       "      <td id=\"T_14d08_row12_col1\" class=\"data row12 col1\" >The Royal Melbourne Hospital (Melbourne Hospital 1841 - 1935; The Amalgamated Melbourne and Essendon Hospitals 1986 - 1989)</td>\n",
       "      <td id=\"T_14d08_row12_col2\" class=\"data row12 col2\" >109</td>\n",
       "    </tr>\n",
       "    <tr>\n",
       "      <td id=\"T_14d08_row13_col0\" class=\"data row13 col0\" ><a href=\"https://prov.vic.gov.au/archive/VA1044\">VA1044</a></td>\n",
       "      <td id=\"T_14d08_row13_col1\" class=\"data row13 col1\" >Metropolitan Transit Authority</td>\n",
       "      <td id=\"T_14d08_row13_col2\" class=\"data row13 col2\" >108</td>\n",
       "    </tr>\n",
       "    <tr>\n",
       "      <td id=\"T_14d08_row14_col0\" class=\"data row14 col0\" ><a href=\"https://prov.vic.gov.au/archive/VA683\">VA683</a></td>\n",
       "      <td id=\"T_14d08_row14_col1\" class=\"data row14 col1\" >Public Record Office [also known as Public Record Office Victoria from c.1996]</td>\n",
       "      <td id=\"T_14d08_row14_col2\" class=\"data row14 col2\" >107</td>\n",
       "    </tr>\n",
       "    <tr>\n",
       "      <td id=\"T_14d08_row15_col0\" class=\"data row15 col0\" ><a href=\"https://prov.vic.gov.au/archive/VA856\">VA856</a></td>\n",
       "      <td id=\"T_14d08_row15_col1\" class=\"data row15 col1\" >Colonial Secretary's Office</td>\n",
       "      <td id=\"T_14d08_row15_col2\" class=\"data row15 col2\" >103</td>\n",
       "    </tr>\n",
       "    <tr>\n",
       "      <td id=\"T_14d08_row16_col0\" class=\"data row16 col0\" ><a href=\"https://prov.vic.gov.au/archive/VA862\">VA862</a></td>\n",
       "      <td id=\"T_14d08_row16_col1\" class=\"data row16 col1\" >Office of the Registrar-General and the Office of Titles (known as Land Victoria 2001 - 2014; Land Use Victoria 2014 - ct.)</td>\n",
       "      <td id=\"T_14d08_row16_col2\" class=\"data row16 col2\" >99</td>\n",
       "    </tr>\n",
       "    <tr>\n",
       "      <td id=\"T_14d08_row17_col0\" class=\"data row17 col0\" ><a href=\"https://prov.vic.gov.au/archive/VA913\">VA913</a></td>\n",
       "      <td id=\"T_14d08_row17_col1\" class=\"data row17 col1\" >Public Library of Victoria</td>\n",
       "      <td id=\"T_14d08_row17_col2\" class=\"data row17 col2\" >97</td>\n",
       "    </tr>\n",
       "    <tr>\n",
       "      <td id=\"T_14d08_row18_col0\" class=\"data row18 col0\" ><a href=\"https://prov.vic.gov.au/archive/VA2266\">VA2266</a></td>\n",
       "      <td id=\"T_14d08_row18_col1\" class=\"data row18 col1\" >Closer Settlement Board (previously known as  Lands Purchase and Management Board 1905-1918)</td>\n",
       "      <td id=\"T_14d08_row18_col2\" class=\"data row18 col2\" >94</td>\n",
       "    </tr>\n",
       "    <tr>\n",
       "      <td id=\"T_14d08_row19_col0\" class=\"data row19 col0\" ><a href=\"https://prov.vic.gov.au/archive/VA2799\">VA2799</a></td>\n",
       "      <td id=\"T_14d08_row19_col1\" class=\"data row19 col1\" >Melbourne Harbor Trust Commissioners</td>\n",
       "      <td id=\"T_14d08_row19_col2\" class=\"data row19 col2\" >94</td>\n",
       "    </tr>\n",
       "  </tbody>\n",
       "</table>\n"
      ],
      "text/plain": [
       "<pandas.io.formats.style.Styler at 0x788dd5fb4ca0>"
      ]
     },
     "metadata": {},
     "output_type": "display_data"
    }
   ],
   "source": [
    "agencies = []\n",
    "for facet in get_facets(\n",
    "    \"creating_agents.creating_agency_id\", \"category:Series\", \"total_series\"\n",
    ")[:20]:\n",
    "    agency = get_entity(\n",
    "        \"Agency\",\n",
    "        \"identifier.PROV_ACM.id\",\n",
    "        f\"VA {facet['creating_agents.creating_agency_id']}\",\n",
    "    )\n",
    "    facet[\"agency_title\"] = agency[\"title\"]\n",
    "    facet[\"agency_id\"] = f\"VA{facet['creating_agents.creating_agency_id']}\"\n",
    "    agencies.append(facet)\n",
    "df_agencies = pd.DataFrame(agencies)[[\"agency_id\", \"agency_title\", \"total_series\"]]\n",
    "display(style_df(df_agencies, link_field=\"agency_id\"))"
   ]
  },
  {
   "cell_type": "code",
   "execution_count": 62,
   "id": "39faf1c7-fad1-4391-b6ca-0b1f4da6b172",
   "metadata": {},
   "outputs": [
    {
     "data": {
      "text/markdown": [
       "## Series"
      ],
      "text/plain": [
       "<IPython.core.display.Markdown object>"
      ]
     },
     "metadata": {},
     "output_type": "display_data"
    },
    {
     "data": {
      "text/markdown": [
       "\n",
       "> *Record Series*: a group of records which are recorded or maintained by the same agency (or agencies) and which:\n",
       "> - are in the same numerical, alphabetical, chronological or other identifiable sequence;\n",
       "> - or result from the same accumulation or filing process.\n",
       "\n",
       "&mdash; see the [PROV Archival Control Model](https://prov.vic.gov.au/recordkeeping-government/a-z-topics/archival-control-model)\n"
      ],
      "text/plain": [
       "<IPython.core.display.Markdown object>"
      ]
     },
     "metadata": {},
     "output_type": "display_data"
    },
    {
     "data": {
      "text/markdown": [
       "### Counts by field"
      ],
      "text/plain": [
       "<IPython.core.display.Markdown object>"
      ]
     },
     "metadata": {},
     "output_type": "display_data"
    }
   ],
   "source": [
    "display(\n",
    "    Markdown(\n",
    "        \"\"\"\n",
    "----\n",
    "\n",
    "## Series\n",
    "        \n",
    "> *Record Series*: a group of records which are recorded or maintained by the same agency (or agencies) and which:\n",
    "> - are in the same numerical, alphabetical, chronological or other identifiable sequence;\n",
    "> - or result from the same accumulation or filing process.\n",
    "\n",
    "&mdash; see the [PROV Archival Control Model](https://prov.vic.gov.au/recordkeeping-government/a-z-topics/archival-control-model)\n",
    "\"\"\"\n",
    "    )\n",
    ")\n",
    "\n",
    "display(Markdown(\"### Count of series by field\"))"
   ]
  },
  {
   "cell_type": "code",
   "execution_count": 134,
   "id": "6c97c702-563d-4bd4-ac78-53cf48f08747",
   "metadata": {},
   "outputs": [
    {
     "data": {
      "text/markdown": [
       "#### Format"
      ],
      "text/plain": [
       "<IPython.core.display.Markdown object>"
      ]
     },
     "metadata": {},
     "output_type": "display_data"
    },
    {
     "data": {
      "text/markdown": [
       "Indicates whether a series is in physical or digital format"
      ],
      "text/plain": [
       "<IPython.core.display.Markdown object>"
      ]
     },
     "metadata": {},
     "output_type": "display_data"
    },
    {
     "data": {
      "application/vnd.jupyter.widget-view+json": {
       "model_id": "b3fb943dffd944dcb9e578b912a03e6a",
       "version_major": 2,
       "version_minor": 0
      },
      "text/plain": [
       "HBox(children=(Output(), Output()))"
      ]
     },
     "metadata": {},
     "output_type": "display_data"
    },
    {
     "data": {
      "text/markdown": [
       "#### Location"
      ],
      "text/plain": [
       "<IPython.core.display.Markdown object>"
      ]
     },
     "metadata": {},
     "output_type": "display_data"
    },
    {
     "data": {
      "text/markdown": [
       "Indicates where the series is held – values are not exclusive, so an item can be `Online` and in `North Melbourne`"
      ],
      "text/plain": [
       "<IPython.core.display.Markdown object>"
      ]
     },
     "metadata": {},
     "output_type": "display_data"
    },
    {
     "data": {
      "application/vnd.jupyter.widget-view+json": {
       "model_id": "cf1a40d7a46846a4b4e96ee88071eb4c",
       "version_major": 2,
       "version_minor": 0
      },
      "text/plain": [
       "HBox(children=(Output(), Output()))"
      ]
     },
     "metadata": {},
     "output_type": "display_data"
    },
    {
     "data": {
      "text/markdown": [
       "#### Rights Status"
      ],
      "text/plain": [
       "<IPython.core.display.Markdown object>"
      ]
     },
     "metadata": {},
     "output_type": "display_data"
    },
    {
     "data": {
      "text/markdown": [
       "Indicates whether an series' contents and metadata are available for public access"
      ],
      "text/plain": [
       "<IPython.core.display.Markdown object>"
      ]
     },
     "metadata": {},
     "output_type": "display_data"
    },
    {
     "data": {
      "application/vnd.jupyter.widget-view+json": {
       "model_id": "6c7a10c760d0437496a19b600e2bd8cb",
       "version_major": 2,
       "version_minor": 0
      },
      "text/plain": [
       "HBox(children=(Output(), Output()))"
      ]
     },
     "metadata": {},
     "output_type": "display_data"
    }
   ],
   "source": [
    "for field, note in series_fields.items():\n",
    "    display(Markdown(f\"#### {field.title().replace('_', ' ')}\"))\n",
    "    display(Markdown(note))\n",
    "    display(make_grid(field, query=\"category:Series\"))"
   ]
  },
  {
   "cell_type": "code",
   "execution_count": null,
   "id": "ed3abc98-a000-43fe-934a-734063d18d71",
   "metadata": {},
   "outputs": [],
   "source": [
    "display(Markdown(\"### Count of series by decade\"))\n",
    "\n",
    "display(\n",
    "    Markdown(\n",
    "        \"This chart displays the number of series whose start and end dates overlap with each decade since 1830.\"\n",
    "    )\n",
    ")"
   ]
  },
  {
   "cell_type": "code",
   "execution_count": 44,
   "id": "fa7a5f18-295d-4dee-b6e6-5015048f9e37",
   "metadata": {},
   "outputs": [
    {
     "data": {
      "application/vnd.jupyter.widget-view+json": {
       "model_id": "b32215bba8f8482c8cef3d9e70ce1db1",
       "version_major": 2,
       "version_minor": 0
      },
      "text/plain": [
       "HBox(children=(Output(), Output()))"
      ]
     },
     "execution_count": 44,
     "metadata": {},
     "output_type": "execute_result"
    }
   ],
   "source": [
    "make_decade_chart(\n",
    "    \"category:Series\", title=\"Series by decade\", y_title=\"number of series\"\n",
    ")"
   ]
  },
  {
   "cell_type": "code",
   "execution_count": 115,
   "id": "8c3d1e66-93df-4f51-8c3a-87373d230a05",
   "metadata": {},
   "outputs": [
    {
     "data": {
      "text/markdown": [
       "\n",
       "\n",
       "### Count of items by series (top 20)\n",
       "\n",
       "Series contain items. This table shows which series contain the most items.\n",
       "\n"
      ],
      "text/plain": [
       "<IPython.core.display.Markdown object>"
      ]
     },
     "metadata": {},
     "output_type": "display_data"
    }
   ],
   "source": [
    "display(Markdown(\"\"\"\n",
    "\n",
    "### Count of items by series (top 20)\n",
    "\n",
    "Series contain items. This table shows which series contain the most items.\n",
    "\n",
    "\"\"\"))"
   ]
  },
  {
   "cell_type": "code",
   "execution_count": 53,
   "id": "47ba7d3c-42b0-4472-9a6e-e2c3f870e506",
   "metadata": {},
   "outputs": [
    {
     "data": {
      "text/html": [
       "<style type=\"text/css\">\n",
       "#T_b6458 th {\n",
       "  text-align: left;\n",
       "}\n",
       "#T_b6458_row0_col0, #T_b6458_row0_col1, #T_b6458_row0_col2, #T_b6458_row1_col0, #T_b6458_row1_col1, #T_b6458_row1_col2, #T_b6458_row2_col0, #T_b6458_row2_col1, #T_b6458_row2_col2, #T_b6458_row3_col0, #T_b6458_row3_col1, #T_b6458_row3_col2, #T_b6458_row4_col0, #T_b6458_row4_col1, #T_b6458_row4_col2, #T_b6458_row5_col0, #T_b6458_row5_col1, #T_b6458_row5_col2, #T_b6458_row6_col0, #T_b6458_row6_col1, #T_b6458_row6_col2, #T_b6458_row7_col0, #T_b6458_row7_col1, #T_b6458_row7_col2, #T_b6458_row8_col0, #T_b6458_row8_col1, #T_b6458_row8_col2, #T_b6458_row9_col0, #T_b6458_row9_col1, #T_b6458_row9_col2, #T_b6458_row10_col0, #T_b6458_row10_col1, #T_b6458_row10_col2, #T_b6458_row11_col0, #T_b6458_row11_col1, #T_b6458_row11_col2, #T_b6458_row12_col0, #T_b6458_row12_col1, #T_b6458_row12_col2, #T_b6458_row13_col0, #T_b6458_row13_col1, #T_b6458_row13_col2, #T_b6458_row14_col0, #T_b6458_row14_col1, #T_b6458_row14_col2, #T_b6458_row15_col0, #T_b6458_row15_col1, #T_b6458_row15_col2, #T_b6458_row16_col0, #T_b6458_row16_col1, #T_b6458_row16_col2, #T_b6458_row17_col0, #T_b6458_row17_col1, #T_b6458_row17_col2, #T_b6458_row18_col0, #T_b6458_row18_col1, #T_b6458_row18_col2, #T_b6458_row19_col0, #T_b6458_row19_col1, #T_b6458_row19_col2 {\n",
       "  text-align: left;\n",
       "}\n",
       "</style>\n",
       "<table id=\"T_b6458\">\n",
       "  <thead>\n",
       "    <tr>\n",
       "      <th id=\"T_b6458_level0_col0\" class=\"col_heading level0 col0\" >series_id</th>\n",
       "      <th id=\"T_b6458_level0_col1\" class=\"col_heading level0 col1\" >series_title</th>\n",
       "      <th id=\"T_b6458_level0_col2\" class=\"col_heading level0 col2\" >total_items</th>\n",
       "    </tr>\n",
       "  </thead>\n",
       "  <tbody>\n",
       "    <tr>\n",
       "      <td id=\"T_b6458_row0_col0\" class=\"data row0 col0\" ><a href=\"https://prov.vic.gov.au/archive/VPRS28\">VPRS28</a></td>\n",
       "      <td id=\"T_b6458_row0_col1\" class=\"data row0 col1\" >Probate and Administration Files</td>\n",
       "      <td id=\"T_b6458_row0_col2\" class=\"data row0 col2\" >1,430,364</td>\n",
       "    </tr>\n",
       "    <tr>\n",
       "      <td id=\"T_b6458_row1_col0\" class=\"data row1 col0\" ><a href=\"https://prov.vic.gov.au/archive/VPRS7591\">VPRS7591</a></td>\n",
       "      <td id=\"T_b6458_row1_col1\" class=\"data row1 col1\" >Wills</td>\n",
       "      <td id=\"T_b6458_row1_col2\" class=\"data row1 col2\" >943,563</td>\n",
       "    </tr>\n",
       "    <tr>\n",
       "      <td id=\"T_b6458_row2_col0\" class=\"data row2 col0\" ><a href=\"https://prov.vic.gov.au/archive/VPRS267\">VPRS267</a></td>\n",
       "      <td id=\"T_b6458_row2_col1\" class=\"data row2 col1\" >Civil Case Files</td>\n",
       "      <td id=\"T_b6458_row2_col2\" class=\"data row2 col2\" >458,736</td>\n",
       "    </tr>\n",
       "    <tr>\n",
       "      <td id=\"T_b6458_row3_col0\" class=\"data row3 col0\" ><a href=\"https://prov.vic.gov.au/archive/VPRS24\">VPRS24</a></td>\n",
       "      <td id=\"T_b6458_row3_col1\" class=\"data row3 col1\" >Inquest Deposition Files</td>\n",
       "      <td id=\"T_b6458_row3_col2\" class=\"data row3 col2\" >221,147</td>\n",
       "    </tr>\n",
       "    <tr>\n",
       "      <td id=\"T_b6458_row4_col0\" class=\"data row4 col0\" ><a href=\"https://prov.vic.gov.au/archive/VPRS17379\">VPRS17379</a></td>\n",
       "      <td id=\"T_b6458_row4_col1\" class=\"data row4 col1\" >Probate and Administration Files (CourtView)</td>\n",
       "      <td id=\"T_b6458_row4_col2\" class=\"data row4 col2\" >218,936</td>\n",
       "    </tr>\n",
       "    <tr>\n",
       "      <td id=\"T_b6458_row5_col0\" class=\"data row5 col0\" ><a href=\"https://prov.vic.gov.au/archive/VPRS3183\">VPRS3183</a></td>\n",
       "      <td id=\"T_b6458_row5_col1\" class=\"data row5 col1\" >Town Clerk's Correspondence Files II [MCC Series 120]</td>\n",
       "      <td id=\"T_b6458_row5_col2\" class=\"data row5 col2\" >200,094</td>\n",
       "    </tr>\n",
       "    <tr>\n",
       "      <td id=\"T_b6458_row6_col0\" class=\"data row6 col0\" ><a href=\"https://prov.vic.gov.au/archive/VPRS17865\">VPRS17865</a></td>\n",
       "      <td id=\"T_b6458_row6_col1\" class=\"data row6 col1\" >Certified Plans of Subdivision - Lodged Plan (LP) series</td>\n",
       "      <td id=\"T_b6458_row6_col2\" class=\"data row6 col2\" >140,340</td>\n",
       "    </tr>\n",
       "    <tr>\n",
       "      <td id=\"T_b6458_row7_col0\" class=\"data row7 col0\" ><a href=\"https://prov.vic.gov.au/archive/VPRS5357\">VPRS5357</a></td>\n",
       "      <td id=\"T_b6458_row7_col1\" class=\"data row7 col1\" >Land Selection And Correspondence Files</td>\n",
       "      <td id=\"T_b6458_row7_col2\" class=\"data row7 col2\" >137,380</td>\n",
       "    </tr>\n",
       "    <tr>\n",
       "      <td id=\"T_b6458_row8_col0\" class=\"data row8 col0\" ><a href=\"https://prov.vic.gov.au/archive/VPRS932\">VPRS932</a></td>\n",
       "      <td id=\"T_b6458_row8_col1\" class=\"data row8 col1\" >Trading Company Registration Files</td>\n",
       "      <td id=\"T_b6458_row8_col2\" class=\"data row8 col2\" >128,333</td>\n",
       "    </tr>\n",
       "    <tr>\n",
       "      <td id=\"T_b6458_row9_col0\" class=\"data row9 col0\" ><a href=\"https://prov.vic.gov.au/archive/VPRS17075\">VPRS17075</a></td>\n",
       "      <td id=\"T_b6458_row9_col1\" class=\"data row9 col1\" >Register Book of Crown Lease Titles</td>\n",
       "      <td id=\"T_b6458_row9_col2\" class=\"data row9 col2\" >117,202</td>\n",
       "    </tr>\n",
       "    <tr>\n",
       "      <td id=\"T_b6458_row10_col0\" class=\"data row10 col0\" ><a href=\"https://prov.vic.gov.au/archive/VPRS10010\">VPRS10010</a></td>\n",
       "      <td id=\"T_b6458_row10_col1\" class=\"data row10 col1\" >Body Cards</td>\n",
       "      <td id=\"T_b6458_row10_col2\" class=\"data row10 col2\" >110,474</td>\n",
       "    </tr>\n",
       "    <tr>\n",
       "      <td id=\"T_b6458_row11_col0\" class=\"data row11 col0\" ><a href=\"https://prov.vic.gov.au/archive/VPRS460\">VPRS460</a></td>\n",
       "      <td id=\"T_b6458_row11_col1\" class=\"data row11 col1\" >Applications for Certificates of Title</td>\n",
       "      <td id=\"T_b6458_row11_col2\" class=\"data row11 col2\" >74,409</td>\n",
       "    </tr>\n",
       "    <tr>\n",
       "      <td id=\"T_b6458_row12_col0\" class=\"data row12 col0\" ><a href=\"https://prov.vic.gov.au/archive/VPRS626\">VPRS626</a></td>\n",
       "      <td id=\"T_b6458_row12_col1\" class=\"data row12 col1\" >Land Selection Files by Land District, Sections 19 and 20 Land Act 1869</td>\n",
       "      <td id=\"T_b6458_row12_col2\" class=\"data row12 col2\" >66,793</td>\n",
       "    </tr>\n",
       "    <tr>\n",
       "      <td id=\"T_b6458_row13_col0\" class=\"data row13 col0\" ><a href=\"https://prov.vic.gov.au/archive/VPRS6008\">VPRS6008</a></td>\n",
       "      <td id=\"T_b6458_row13_col1\" class=\"data row13 col1\" >General Correspondence Files, Annual Single Number Systems</td>\n",
       "      <td id=\"T_b6458_row13_col2\" class=\"data row13 col2\" >61,773</td>\n",
       "    </tr>\n",
       "    <tr>\n",
       "      <td id=\"T_b6458_row14_col0\" class=\"data row14 col0\" ><a href=\"https://prov.vic.gov.au/archive/VPRS30\">VPRS30</a></td>\n",
       "      <td id=\"T_b6458_row14_col1\" class=\"data row14 col1\" >Criminal Trial Briefs</td>\n",
       "      <td id=\"T_b6458_row14_col2\" class=\"data row14 col2\" >61,616</td>\n",
       "    </tr>\n",
       "    <tr>\n",
       "      <td id=\"T_b6458_row15_col0\" class=\"data row15 col0\" ><a href=\"https://prov.vic.gov.au/archive/VPRS640\">VPRS640</a></td>\n",
       "      <td id=\"T_b6458_row15_col1\" class=\"data row15 col1\" >Central Inward Primary Schools Correspondence</td>\n",
       "      <td id=\"T_b6458_row15_col2\" class=\"data row15 col2\" >61,342</td>\n",
       "    </tr>\n",
       "    <tr>\n",
       "      <td id=\"T_b6458_row16_col0\" class=\"data row16 col0\" ><a href=\"https://prov.vic.gov.au/archive/VPRS18870\">VPRS18870</a></td>\n",
       "      <td id=\"T_b6458_row16_col1\" class=\"data row16 col1\" >Application Search Notes</td>\n",
       "      <td id=\"T_b6458_row16_col2\" class=\"data row16 col2\" >57,650</td>\n",
       "    </tr>\n",
       "    <tr>\n",
       "      <td id=\"T_b6458_row17_col0\" class=\"data row17 col0\" ><a href=\"https://prov.vic.gov.au/archive/VPRS19093\">VPRS19093</a></td>\n",
       "      <td id=\"T_b6458_row17_col1\" class=\"data row17 col1\" >Application Examiner's Notes</td>\n",
       "      <td id=\"T_b6458_row17_col2\" class=\"data row17 col2\" >50,370</td>\n",
       "    </tr>\n",
       "    <tr>\n",
       "      <td id=\"T_b6458_row18_col0\" class=\"data row18 col0\" ><a href=\"https://prov.vic.gov.au/archive/VPRS3686\">VPRS3686</a></td>\n",
       "      <td id=\"T_b6458_row18_col1\" class=\"data row18 col1\" >Pre-Metric Building Plans</td>\n",
       "      <td id=\"T_b6458_row18_col2\" class=\"data row18 col2\" >47,558</td>\n",
       "    </tr>\n",
       "    <tr>\n",
       "      <td id=\"T_b6458_row19_col0\" class=\"data row19 col0\" ><a href=\"https://prov.vic.gov.au/archive/VPRS8350\">VPRS8350</a></td>\n",
       "      <td id=\"T_b6458_row19_col1\" class=\"data row19 col1\" >Bills of Sale Filed</td>\n",
       "      <td id=\"T_b6458_row19_col2\" class=\"data row19 col2\" >43,923</td>\n",
       "    </tr>\n",
       "  </tbody>\n",
       "</table>\n"
      ],
      "text/plain": [
       "<pandas.io.formats.style.Styler at 0x788dd7d682e0>"
      ]
     },
     "metadata": {},
     "output_type": "display_data"
    }
   ],
   "source": [
    "digitised = []\n",
    "for facet in get_series_facets(\"category:Item\", \"total_items\")[:20]:\n",
    "    series = get_series(facet[\"series_id\"])\n",
    "    facet[\"series_id\"] = f\"VPRS{facet['series_id']}\"\n",
    "    facet[\"series_title\"] = series[\"title\"]\n",
    "    digitised.append(facet)\n",
    "df_items = pd.DataFrame(digitised)[[\"series_id\", \"series_title\", \"total_items\"]]\n",
    "display(style_df(df_items, link_field=\"series_id\"))"
   ]
  },
  {
   "cell_type": "code",
   "execution_count": 63,
   "id": "110f32b7-ddde-4448-977f-60c458a2a0ea",
   "metadata": {},
   "outputs": [
    {
     "data": {
      "text/markdown": [
       "## Items"
      ],
      "text/plain": [
       "<IPython.core.display.Markdown object>"
      ]
     },
     "metadata": {},
     "output_type": "display_data"
    },
    {
     "data": {
      "text/markdown": [
       "\n",
       "> *Record Item*: a discrete element [of] records managed within a ‘Series’. An Item represents a part of a recordkeeping system or a logical or convenient grouping of records. It may represent one record or multiple records such as a group of folios fastened together to form a file, a group of electronic files aggregated in a folder, or a single volume.\n",
       "\n",
       "&mdash; see the [PROV Archival Control Model](https://prov.vic.gov.au/recordkeeping-government/a-z-topics/archival-control-model)\n"
      ],
      "text/plain": [
       "<IPython.core.display.Markdown object>"
      ]
     },
     "metadata": {},
     "output_type": "display_data"
    }
   ],
   "source": [
    "display(\n",
    "    Markdown(\n",
    "        \"\"\"\n",
    "----\n",
    "\n",
    "## Items\n",
    "\n",
    "> *Record Item*: a discrete element [of] records managed within a ‘Series’. An Item represents a part of a recordkeeping system or a logical or convenient grouping of records. It may represent one record or multiple records such as a group of folios fastened together to form a file, a group of electronic files aggregated in a folder, or a single volume.\n",
    "\n",
    "&mdash; see the [PROV Archival Control Model](https://prov.vic.gov.au/recordkeeping-government/a-z-topics/archival-control-model)\n",
    "\"\"\"\n",
    "    )\n",
    ")"
   ]
  },
  {
   "cell_type": "code",
   "execution_count": 116,
   "id": "237eeece-9165-4148-98f6-193306be4486",
   "metadata": {},
   "outputs": [
    {
     "data": {
      "text/html": [
       "<h3 class='alert alert-info'>There are 6,335,803 items.</h3>"
      ],
      "text/plain": [
       "<IPython.core.display.HTML object>"
      ]
     },
     "metadata": {},
     "output_type": "display_data"
    }
   ],
   "source": [
    "total_items = get_total_results({\"q\": \"category:Item\"})\n",
    "total_series = get_total_results({\"q\": \"category:Series\"})\n",
    "display(HTML(f\"<h3 class='alert alert-info'>There are {total_items:,} items.</h3>\"))"
   ]
  },
  {
   "cell_type": "code",
   "execution_count": 70,
   "id": "725fadba-6019-4d57-a193-559d5f0f9c3a",
   "metadata": {},
   "outputs": [
    {
     "data": {
      "text/markdown": [
       "### Counts by field"
      ],
      "text/plain": [
       "<IPython.core.display.Markdown object>"
      ]
     },
     "metadata": {},
     "output_type": "display_data"
    }
   ],
   "source": [
    "display(Markdown(\"### Count of items by field\"))"
   ]
  },
  {
   "cell_type": "code",
   "execution_count": 135,
   "id": "72bc4cdc-1701-4b57-81a9-e4ad678fca1e",
   "metadata": {},
   "outputs": [
    {
     "data": {
      "text/markdown": [
       "#### Format"
      ],
      "text/plain": [
       "<IPython.core.display.Markdown object>"
      ]
     },
     "metadata": {},
     "output_type": "display_data"
    },
    {
     "data": {
      "text/markdown": [
       "Indicates whether an item is in physical or digital format"
      ],
      "text/plain": [
       "<IPython.core.display.Markdown object>"
      ]
     },
     "metadata": {},
     "output_type": "display_data"
    },
    {
     "data": {
      "application/vnd.jupyter.widget-view+json": {
       "model_id": "cc606ce0e5c446a6802393e738a77954",
       "version_major": 2,
       "version_minor": 0
      },
      "text/plain": [
       "HBox(children=(Output(), Output()))"
      ]
     },
     "metadata": {},
     "output_type": "display_data"
    },
    {
     "data": {
      "text/markdown": [
       "#### Record Form"
      ],
      "text/plain": [
       "<IPython.core.display.Markdown object>"
      ]
     },
     "metadata": {},
     "output_type": "display_data"
    },
    {
     "data": {
      "text/markdown": [
       "Describes the physical format of an item"
      ],
      "text/plain": [
       "<IPython.core.display.Markdown object>"
      ]
     },
     "metadata": {},
     "output_type": "display_data"
    },
    {
     "data": {
      "application/vnd.jupyter.widget-view+json": {
       "model_id": "af05567ea19249beb4fd0676ececfd42",
       "version_major": 2,
       "version_minor": 0
      },
      "text/plain": [
       "HBox(children=(Output(), Output()))"
      ]
     },
     "metadata": {},
     "output_type": "display_data"
    },
    {
     "data": {
      "text/markdown": [
       "#### Location"
      ],
      "text/plain": [
       "<IPython.core.display.Markdown object>"
      ]
     },
     "metadata": {},
     "output_type": "display_data"
    },
    {
     "data": {
      "text/markdown": [
       "Indicates where the item is held – values are not exclusive, so an item can be `Online` and in `North Melbourne`"
      ],
      "text/plain": [
       "<IPython.core.display.Markdown object>"
      ]
     },
     "metadata": {},
     "output_type": "display_data"
    },
    {
     "data": {
      "application/vnd.jupyter.widget-view+json": {
       "model_id": "99b51726d7f54786a0948678eff6623d",
       "version_major": 2,
       "version_minor": 0
      },
      "text/plain": [
       "HBox(children=(Output(), Output()))"
      ]
     },
     "metadata": {},
     "output_type": "display_data"
    },
    {
     "data": {
      "text/markdown": [
       "#### Rights Status"
      ],
      "text/plain": [
       "<IPython.core.display.Markdown object>"
      ]
     },
     "metadata": {},
     "output_type": "display_data"
    },
    {
     "data": {
      "text/markdown": [
       "Indicates whether an items's contents and metadata are available for public access"
      ],
      "text/plain": [
       "<IPython.core.display.Markdown object>"
      ]
     },
     "metadata": {},
     "output_type": "display_data"
    },
    {
     "data": {
      "application/vnd.jupyter.widget-view+json": {
       "model_id": "f892ee74b2ea4ec6902680328ca82fa4",
       "version_major": 2,
       "version_minor": 0
      },
      "text/plain": [
       "HBox(children=(Output(), Output()))"
      ]
     },
     "metadata": {},
     "output_type": "display_data"
    }
   ],
   "source": [
    "for field, note in item_fields.items():\n",
    "    display(Markdown(f\"#### {field.title().replace('_', ' ')}\"))\n",
    "    display(Markdown(note))\n",
    "    display(make_grid(field, query=\"category:Item\"))"
   ]
  },
  {
   "cell_type": "code",
   "execution_count": 117,
   "id": "8af7ef48-b830-4788-8f9d-bb02a4c4ac10",
   "metadata": {},
   "outputs": [
    {
     "data": {
      "text/markdown": [
       "### Count of items by decade"
      ],
      "text/plain": [
       "<IPython.core.display.Markdown object>"
      ]
     },
     "metadata": {},
     "output_type": "display_data"
    },
    {
     "data": {
      "text/markdown": [
       "This chart displays the number of items whose date range overlaps with each decade since 1830."
      ],
      "text/plain": [
       "<IPython.core.display.Markdown object>"
      ]
     },
     "metadata": {},
     "output_type": "display_data"
    }
   ],
   "source": [
    "display(Markdown(\"### Count of items by decade\"))\n",
    "\n",
    "display(\n",
    "    Markdown(\n",
    "        \"This chart displays the number of items whose date range overlaps with each decade since 1830.\"\n",
    "    )\n",
    ")"
   ]
  },
  {
   "cell_type": "code",
   "execution_count": 51,
   "id": "8b9452ed-a0a6-4ec5-8006-80378ac0e28f",
   "metadata": {},
   "outputs": [
    {
     "data": {
      "application/vnd.jupyter.widget-view+json": {
       "model_id": "8e14399d3fae4039b4455389c43fb890",
       "version_major": 2,
       "version_minor": 0
      },
      "text/plain": [
       "HBox(children=(Output(), Output()))"
      ]
     },
     "execution_count": 51,
     "metadata": {},
     "output_type": "execute_result"
    }
   ],
   "source": [
    "make_decade_chart(\"category:Item\", title=\"Items by decade\", y_title=\"number of items\")"
   ]
  },
  {
   "cell_type": "code",
   "execution_count": 68,
   "id": "71ce4fe0-5e54-4104-933b-1f73623b0cb2",
   "metadata": {},
   "outputs": [
    {
     "data": {
      "text/markdown": [
       "### Digitised items"
      ],
      "text/plain": [
       "<IPython.core.display.Markdown object>"
      ]
     },
     "metadata": {},
     "output_type": "display_data"
    }
   ],
   "source": [
    "display(Markdown(\"### Digitised items\"))"
   ]
  },
  {
   "cell_type": "code",
   "execution_count": 79,
   "id": "da074feb-05a8-4db8-bdaa-4e873ce7ac4f",
   "metadata": {},
   "outputs": [
    {
     "data": {
      "text/html": [
       "<h4 class='alert alert-info'>924,368 items have been digitised (14.59% of total items).</h4>"
      ],
      "text/plain": [
       "<IPython.core.display.HTML object>"
      ]
     },
     "metadata": {},
     "output_type": "display_data"
    }
   ],
   "source": [
    "total_items = get_total_results({\"q\": \"category:Item\"})\n",
    "digitised_items = get_total_results({\"q\": \"iiif-manifest:[* TO *] AND category:Item\"})\n",
    "display(\n",
    "    HTML(\n",
    "        f\"<h4 class='alert alert-info'>{digitised_items:,} items have been digitised ({digitised_items/total_items:.2%} of total items).</h4>\"\n",
    "    )\n",
    ")"
   ]
  },
  {
   "cell_type": "code",
   "execution_count": 118,
   "id": "c586c92c-3c97-4941-9eef-58042ebf94c8",
   "metadata": {},
   "outputs": [
    {
     "data": {
      "text/markdown": [
       "#### Count of digitised items by decade"
      ],
      "text/plain": [
       "<IPython.core.display.Markdown object>"
      ]
     },
     "metadata": {},
     "output_type": "display_data"
    },
    {
     "data": {
      "text/markdown": [
       "This chart displays the number of digitised items whose date range overlaps with each decade since 1830."
      ],
      "text/plain": [
       "<IPython.core.display.Markdown object>"
      ]
     },
     "metadata": {},
     "output_type": "display_data"
    }
   ],
   "source": [
    "display(Markdown(\"#### Count of digitised items by decade\"))\n",
    "\n",
    "display(\n",
    "    Markdown(\n",
    "        \"This chart displays the number of digitised items whose date range overlaps with each decade since 1830.\"\n",
    "    )\n",
    ")"
   ]
  },
  {
   "cell_type": "code",
   "execution_count": 83,
   "id": "d2c42817-e828-4e83-9b78-353d1ccf98f0",
   "metadata": {},
   "outputs": [
    {
     "data": {
      "application/vnd.jupyter.widget-view+json": {
       "model_id": "3751bc42d10a4d9f9452a6470e0fd11a",
       "version_major": 2,
       "version_minor": 0
      },
      "text/plain": [
       "HBox(children=(Output(), Output()))"
      ]
     },
     "execution_count": 83,
     "metadata": {},
     "output_type": "execute_result"
    }
   ],
   "source": [
    "make_decade_chart(\n",
    "    \"iiif-manifest:[* TO *] AND category:Item\", \"Digitised items by decade\"\n",
    ")"
   ]
  },
  {
   "cell_type": "code",
   "execution_count": 119,
   "id": "46f5fb06-0f61-457f-bbec-25c8e17df5f5",
   "metadata": {},
   "outputs": [
    {
     "data": {
      "text/markdown": [
       "\n",
       "\n",
       "#### Count of digitised items by series (top 20)\n",
       "\n",
       "This table shows which series contain the most digitised items.\n",
       "\n"
      ],
      "text/plain": [
       "<IPython.core.display.Markdown object>"
      ]
     },
     "metadata": {},
     "output_type": "display_data"
    }
   ],
   "source": [
    "display(Markdown(\"\"\"\n",
    "\n",
    "#### Count of digitised items by series (top 20)\n",
    "\n",
    "This table shows which series contain the most digitised items.\n",
    "\n",
    "\"\"\"))"
   ]
  },
  {
   "cell_type": "code",
   "execution_count": 71,
   "id": "da121a9c-32b2-4ea2-a005-32c5e095585e",
   "metadata": {},
   "outputs": [
    {
     "data": {
      "text/html": [
       "<style type=\"text/css\">\n",
       "#T_a1891 th {\n",
       "  text-align: left;\n",
       "}\n",
       "#T_a1891_row0_col0, #T_a1891_row0_col1, #T_a1891_row0_col2, #T_a1891_row0_col3, #T_a1891_row0_col4, #T_a1891_row1_col0, #T_a1891_row1_col1, #T_a1891_row1_col2, #T_a1891_row1_col3, #T_a1891_row1_col4, #T_a1891_row2_col0, #T_a1891_row2_col1, #T_a1891_row2_col2, #T_a1891_row2_col3, #T_a1891_row2_col4, #T_a1891_row3_col0, #T_a1891_row3_col1, #T_a1891_row3_col2, #T_a1891_row3_col3, #T_a1891_row3_col4, #T_a1891_row4_col0, #T_a1891_row4_col1, #T_a1891_row4_col2, #T_a1891_row4_col3, #T_a1891_row4_col4, #T_a1891_row5_col0, #T_a1891_row5_col1, #T_a1891_row5_col2, #T_a1891_row5_col3, #T_a1891_row5_col4, #T_a1891_row6_col0, #T_a1891_row6_col1, #T_a1891_row6_col2, #T_a1891_row6_col3, #T_a1891_row6_col4, #T_a1891_row7_col0, #T_a1891_row7_col1, #T_a1891_row7_col2, #T_a1891_row7_col3, #T_a1891_row7_col4, #T_a1891_row8_col0, #T_a1891_row8_col1, #T_a1891_row8_col2, #T_a1891_row8_col3, #T_a1891_row8_col4, #T_a1891_row9_col0, #T_a1891_row9_col1, #T_a1891_row9_col2, #T_a1891_row9_col3, #T_a1891_row9_col4, #T_a1891_row10_col0, #T_a1891_row10_col1, #T_a1891_row10_col2, #T_a1891_row10_col3, #T_a1891_row10_col4, #T_a1891_row11_col0, #T_a1891_row11_col1, #T_a1891_row11_col2, #T_a1891_row11_col3, #T_a1891_row11_col4, #T_a1891_row12_col0, #T_a1891_row12_col1, #T_a1891_row12_col2, #T_a1891_row12_col3, #T_a1891_row12_col4, #T_a1891_row13_col0, #T_a1891_row13_col1, #T_a1891_row13_col2, #T_a1891_row13_col3, #T_a1891_row13_col4, #T_a1891_row14_col0, #T_a1891_row14_col1, #T_a1891_row14_col2, #T_a1891_row14_col3, #T_a1891_row14_col4, #T_a1891_row15_col0, #T_a1891_row15_col1, #T_a1891_row15_col2, #T_a1891_row15_col3, #T_a1891_row15_col4, #T_a1891_row16_col0, #T_a1891_row16_col1, #T_a1891_row16_col2, #T_a1891_row16_col3, #T_a1891_row16_col4, #T_a1891_row17_col0, #T_a1891_row17_col1, #T_a1891_row17_col2, #T_a1891_row17_col3, #T_a1891_row17_col4, #T_a1891_row18_col0, #T_a1891_row18_col1, #T_a1891_row18_col2, #T_a1891_row18_col3, #T_a1891_row18_col4, #T_a1891_row19_col0, #T_a1891_row19_col1, #T_a1891_row19_col2, #T_a1891_row19_col3, #T_a1891_row19_col4 {\n",
       "  text-align: left;\n",
       "}\n",
       "</style>\n",
       "<table id=\"T_a1891\">\n",
       "  <thead>\n",
       "    <tr>\n",
       "      <th id=\"T_a1891_level0_col0\" class=\"col_heading level0 col0\" >series_id</th>\n",
       "      <th id=\"T_a1891_level0_col1\" class=\"col_heading level0 col1\" >series_title</th>\n",
       "      <th id=\"T_a1891_level0_col2\" class=\"col_heading level0 col2\" >total_items</th>\n",
       "      <th id=\"T_a1891_level0_col3\" class=\"col_heading level0 col3\" >items_digitised</th>\n",
       "      <th id=\"T_a1891_level0_col4\" class=\"col_heading level0 col4\" >percent_digitised</th>\n",
       "    </tr>\n",
       "  </thead>\n",
       "  <tbody>\n",
       "    <tr>\n",
       "      <td id=\"T_a1891_row0_col0\" class=\"data row0 col0\" ><a href=\"https://prov.vic.gov.au/archive/VPRS7591\">VPRS7591</a></td>\n",
       "      <td id=\"T_a1891_row0_col1\" class=\"data row0 col1\" >Wills</td>\n",
       "      <td id=\"T_a1891_row0_col2\" class=\"data row0 col2\" >943,563</td>\n",
       "      <td id=\"T_a1891_row0_col3\" class=\"data row0 col3\" >351,756</td>\n",
       "      <td id=\"T_a1891_row0_col4\" class=\"data row0 col4\" >37.28%</td>\n",
       "    </tr>\n",
       "    <tr>\n",
       "      <td id=\"T_a1891_row1_col0\" class=\"data row1 col0\" ><a href=\"https://prov.vic.gov.au/archive/VPRS28\">VPRS28</a></td>\n",
       "      <td id=\"T_a1891_row1_col1\" class=\"data row1 col1\" >Probate and Administration Files</td>\n",
       "      <td id=\"T_a1891_row1_col2\" class=\"data row1 col2\" >1,430,364</td>\n",
       "      <td id=\"T_a1891_row1_col3\" class=\"data row1 col3\" >305,314</td>\n",
       "      <td id=\"T_a1891_row1_col4\" class=\"data row1 col4\" >21.35%</td>\n",
       "    </tr>\n",
       "    <tr>\n",
       "      <td id=\"T_a1891_row2_col0\" class=\"data row2 col0\" ><a href=\"https://prov.vic.gov.au/archive/VPRS24\">VPRS24</a></td>\n",
       "      <td id=\"T_a1891_row2_col1\" class=\"data row2 col1\" >Inquest Deposition Files</td>\n",
       "      <td id=\"T_a1891_row2_col2\" class=\"data row2 col2\" >221,147</td>\n",
       "      <td id=\"T_a1891_row2_col3\" class=\"data row2 col3\" >125,164</td>\n",
       "      <td id=\"T_a1891_row2_col4\" class=\"data row2 col4\" >56.60%</td>\n",
       "    </tr>\n",
       "    <tr>\n",
       "      <td id=\"T_a1891_row3_col0\" class=\"data row3 col0\" ><a href=\"https://prov.vic.gov.au/archive/VPRS283\">VPRS283</a></td>\n",
       "      <td id=\"T_a1891_row3_col1\" class=\"data row3 col1\" >Divorce Case Files, Melbourne</td>\n",
       "      <td id=\"T_a1891_row3_col2\" class=\"data row3 col2\" >35,072</td>\n",
       "      <td id=\"T_a1891_row3_col3\" class=\"data row3 col3\" >19,563</td>\n",
       "      <td id=\"T_a1891_row3_col4\" class=\"data row3 col4\" >55.78%</td>\n",
       "    </tr>\n",
       "    <tr>\n",
       "      <td id=\"T_a1891_row4_col0\" class=\"data row4 col0\" ><a href=\"https://prov.vic.gov.au/archive/VPRS19\">VPRS19</a></td>\n",
       "      <td id=\"T_a1891_row4_col1\" class=\"data row4 col1\" >Inward Registered Correspondence</td>\n",
       "      <td id=\"T_a1891_row4_col2\" class=\"data row4 col2\" >20,928</td>\n",
       "      <td id=\"T_a1891_row4_col3\" class=\"data row4 col3\" >18,884</td>\n",
       "      <td id=\"T_a1891_row4_col4\" class=\"data row4 col4\" >90.23%</td>\n",
       "    </tr>\n",
       "    <tr>\n",
       "      <td id=\"T_a1891_row5_col0\" class=\"data row5 col0\" ><a href=\"https://prov.vic.gov.au/archive/VPRS14517\">VPRS14517</a></td>\n",
       "      <td id=\"T_a1891_row5_col1\" class=\"data row5 col1\" >Negatives of Photographs [Publications Branch]</td>\n",
       "      <td id=\"T_a1891_row5_col2\" class=\"data row5 col2\" >18,283</td>\n",
       "      <td id=\"T_a1891_row5_col3\" class=\"data row5 col3\" >18,184</td>\n",
       "      <td id=\"T_a1891_row5_col4\" class=\"data row5 col4\" >99.46%</td>\n",
       "    </tr>\n",
       "    <tr>\n",
       "      <td id=\"T_a1891_row6_col0\" class=\"data row6 col0\" ><a href=\"https://prov.vic.gov.au/archive/VPRS12800\">VPRS12800</a></td>\n",
       "      <td id=\"T_a1891_row6_col1\" class=\"data row6 col1\" >Photographic Collection: Railway Negatives: Alpha-numeric Systems</td>\n",
       "      <td id=\"T_a1891_row6_col2\" class=\"data row6 col2\" >12,332</td>\n",
       "      <td id=\"T_a1891_row6_col3\" class=\"data row6 col3\" >12,102</td>\n",
       "      <td id=\"T_a1891_row6_col4\" class=\"data row6 col4\" >98.13%</td>\n",
       "    </tr>\n",
       "    <tr>\n",
       "      <td id=\"T_a1891_row7_col0\" class=\"data row7 col0\" ><a href=\"https://prov.vic.gov.au/archive/VPRS12903\">VPRS12903</a></td>\n",
       "      <td id=\"T_a1891_row7_col1\" class=\"data row7 col1\" >Photographic Negatives: Railways: Box Systems</td>\n",
       "      <td id=\"T_a1891_row7_col2\" class=\"data row7 col2\" >11,529</td>\n",
       "      <td id=\"T_a1891_row7_col3\" class=\"data row7 col3\" >11,093</td>\n",
       "      <td id=\"T_a1891_row7_col4\" class=\"data row7 col4\" >96.22%</td>\n",
       "    </tr>\n",
       "    <tr>\n",
       "      <td id=\"T_a1891_row8_col0\" class=\"data row8 col0\" ><a href=\"https://prov.vic.gov.au/archive/VPRS8168\">VPRS8168</a></td>\n",
       "      <td id=\"T_a1891_row8_col1\" class=\"data row8 col1\" >Historic Plan Collection</td>\n",
       "      <td id=\"T_a1891_row8_col2\" class=\"data row8 col2\" >11,575</td>\n",
       "      <td id=\"T_a1891_row8_col3\" class=\"data row8 col3\" >10,932</td>\n",
       "      <td id=\"T_a1891_row8_col4\" class=\"data row8 col4\" >94.44%</td>\n",
       "    </tr>\n",
       "    <tr>\n",
       "      <td id=\"T_a1891_row9_col0\" class=\"data row9 col0\" ><a href=\"https://prov.vic.gov.au/archive/VPRS3183\">VPRS3183</a></td>\n",
       "      <td id=\"T_a1891_row9_col1\" class=\"data row9 col1\" >Town Clerk's Correspondence Files II [MCC Series 120]</td>\n",
       "      <td id=\"T_a1891_row9_col2\" class=\"data row9 col2\" >200,094</td>\n",
       "      <td id=\"T_a1891_row9_col3\" class=\"data row9 col3\" >6,461</td>\n",
       "      <td id=\"T_a1891_row9_col4\" class=\"data row9 col4\" >3.23%</td>\n",
       "    </tr>\n",
       "    <tr>\n",
       "      <td id=\"T_a1891_row10_col0\" class=\"data row10 col0\" ><a href=\"https://prov.vic.gov.au/archive/VPRS5714\">VPRS5714</a></td>\n",
       "      <td id=\"T_a1891_row10_col1\" class=\"data row10 col1\" >Land Selection Files, Section 12 Closer Settlement Act 1938 [including obsolete and top numbered Closer Settlement and WW1 Discharged Soldier Settlement files]</td>\n",
       "      <td id=\"T_a1891_row10_col2\" class=\"data row10 col2\" >21,146</td>\n",
       "      <td id=\"T_a1891_row10_col3\" class=\"data row10 col3\" >5,823</td>\n",
       "      <td id=\"T_a1891_row10_col4\" class=\"data row10 col4\" >27.54%</td>\n",
       "    </tr>\n",
       "    <tr>\n",
       "      <td id=\"T_a1891_row11_col0\" class=\"data row11 col0\" ><a href=\"https://prov.vic.gov.au/archive/VPRS8357\">VPRS8357</a></td>\n",
       "      <td id=\"T_a1891_row11_col1\" class=\"data row11 col1\" >Photographic Collection</td>\n",
       "      <td id=\"T_a1891_row11_col2\" class=\"data row11 col2\" >5,572</td>\n",
       "      <td id=\"T_a1891_row11_col3\" class=\"data row11 col3\" >5,269</td>\n",
       "      <td id=\"T_a1891_row11_col4\" class=\"data row11 col4\" >94.56%</td>\n",
       "    </tr>\n",
       "    <tr>\n",
       "      <td id=\"T_a1891_row12_col0\" class=\"data row12 col0\" ><a href=\"https://prov.vic.gov.au/archive/VPRS18782\">VPRS18782</a></td>\n",
       "      <td id=\"T_a1891_row12_col1\" class=\"data row12 col1\" >Hydrographic Survey Plans</td>\n",
       "      <td id=\"T_a1891_row12_col2\" class=\"data row12 col2\" >5,227</td>\n",
       "      <td id=\"T_a1891_row12_col3\" class=\"data row12 col3\" >4,383</td>\n",
       "      <td id=\"T_a1891_row12_col4\" class=\"data row12 col4\" >83.85%</td>\n",
       "    </tr>\n",
       "    <tr>\n",
       "      <td id=\"T_a1891_row13_col0\" class=\"data row13 col0\" ><a href=\"https://prov.vic.gov.au/archive/VPRS944\">VPRS944</a></td>\n",
       "      <td id=\"T_a1891_row13_col1\" class=\"data row13 col1\" >Inward Passenger Lists (Australian Ports)</td>\n",
       "      <td id=\"T_a1891_row13_col2\" class=\"data row13 col2\" >3,349</td>\n",
       "      <td id=\"T_a1891_row13_col3\" class=\"data row13 col3\" >3,110</td>\n",
       "      <td id=\"T_a1891_row13_col4\" class=\"data row13 col4\" >92.86%</td>\n",
       "    </tr>\n",
       "    <tr>\n",
       "      <td id=\"T_a1891_row14_col0\" class=\"data row14 col0\" ><a href=\"https://prov.vic.gov.au/archive/VPRS10742\">VPRS10742</a></td>\n",
       "      <td id=\"T_a1891_row14_col1\" class=\"data row14 col1\" >Photographic Negatives [1956 Melbourne Olympics Photograph Collection]</td>\n",
       "      <td id=\"T_a1891_row14_col2\" class=\"data row14 col2\" >2,765</td>\n",
       "      <td id=\"T_a1891_row14_col3\" class=\"data row14 col3\" >2,749</td>\n",
       "      <td id=\"T_a1891_row14_col4\" class=\"data row14 col4\" >99.42%</td>\n",
       "    </tr>\n",
       "    <tr>\n",
       "      <td id=\"T_a1891_row15_col0\" class=\"data row15 col0\" ><a href=\"https://prov.vic.gov.au/archive/VPRS2869\">VPRS2869</a></td>\n",
       "      <td id=\"T_a1891_row15_col1\" class=\"data row15 col1\" >Landmark Competition Drawings</td>\n",
       "      <td id=\"T_a1891_row15_col2\" class=\"data row15 col2\" >1,972</td>\n",
       "      <td id=\"T_a1891_row15_col3\" class=\"data row15 col3\" >1,571</td>\n",
       "      <td id=\"T_a1891_row15_col4\" class=\"data row15 col4\" >79.67%</td>\n",
       "    </tr>\n",
       "    <tr>\n",
       "      <td id=\"T_a1891_row16_col0\" class=\"data row16 col0\" ><a href=\"https://prov.vic.gov.au/archive/VPRS8362\">VPRS8362</a></td>\n",
       "      <td id=\"T_a1891_row16_col1\" class=\"data row16 col1\" >Photograph Albums : Alpha-Numeric Sequence [J.B. Hosking Collection]</td>\n",
       "      <td id=\"T_a1891_row16_col2\" class=\"data row16 col2\" >1,686</td>\n",
       "      <td id=\"T_a1891_row16_col3\" class=\"data row16 col3\" >1,499</td>\n",
       "      <td id=\"T_a1891_row16_col4\" class=\"data row16 col4\" >88.91%</td>\n",
       "    </tr>\n",
       "    <tr>\n",
       "      <td id=\"T_a1891_row17_col0\" class=\"data row17 col0\" ><a href=\"https://prov.vic.gov.au/archive/VPRS8359\">VPRS8359</a></td>\n",
       "      <td id=\"T_a1891_row17_col1\" class=\"data row17 col1\" >Black and White Negatives : Sequential Number</td>\n",
       "      <td id=\"T_a1891_row17_col2\" class=\"data row17 col2\" >1,379</td>\n",
       "      <td id=\"T_a1891_row17_col3\" class=\"data row17 col3\" >1,378</td>\n",
       "      <td id=\"T_a1891_row17_col4\" class=\"data row17 col4\" >99.93%</td>\n",
       "    </tr>\n",
       "    <tr>\n",
       "      <td id=\"T_a1891_row18_col0\" class=\"data row18 col0\" ><a href=\"https://prov.vic.gov.au/archive/VPRS19731\">VPRS19731</a></td>\n",
       "      <td id=\"T_a1891_row18_col1\" class=\"data row18 col1\" >Historic Photographic Collection, Prints</td>\n",
       "      <td id=\"T_a1891_row18_col2\" class=\"data row18 col2\" >1,377</td>\n",
       "      <td id=\"T_a1891_row18_col3\" class=\"data row18 col3\" >1,351</td>\n",
       "      <td id=\"T_a1891_row18_col4\" class=\"data row18 col4\" >98.11%</td>\n",
       "    </tr>\n",
       "    <tr>\n",
       "      <td id=\"T_a1891_row19_col0\" class=\"data row19 col0\" ><a href=\"https://prov.vic.gov.au/archive/VPRS10516\">VPRS10516</a></td>\n",
       "      <td id=\"T_a1891_row19_col1\" class=\"data row19 col1\" >Photographs and Negatives of Government Buildings</td>\n",
       "      <td id=\"T_a1891_row19_col2\" class=\"data row19 col2\" >1,975</td>\n",
       "      <td id=\"T_a1891_row19_col3\" class=\"data row19 col3\" >809</td>\n",
       "      <td id=\"T_a1891_row19_col4\" class=\"data row19 col4\" >40.96%</td>\n",
       "    </tr>\n",
       "  </tbody>\n",
       "</table>\n"
      ],
      "text/plain": [
       "<pandas.io.formats.style.Styler at 0x788dd4152170>"
      ]
     },
     "metadata": {},
     "output_type": "display_data"
    }
   ],
   "source": [
    "digitised = []\n",
    "for facet in get_series_facets(\n",
    "    \"iiif-manifest:[* TO *] AND category:Item\", \"items_digitised\"\n",
    ")[:20]:\n",
    "    series = get_series(facet[\"series_id\"])\n",
    "    total_items = count_items_in_series(facet[\"series_id\"], \"Item\")\n",
    "    percent = facet[\"items_digitised\"] / total_items\n",
    "    facet[\"series_id\"] = f\"VPRS{facet['series_id']}\"\n",
    "    facet[\"series_title\"] = series[\"title\"]\n",
    "    facet[\"total_items\"] = total_items\n",
    "    facet[\"percent_digitised\"] = f\"{percent:.2%}\"\n",
    "    digitised.append(facet)\n",
    "df_digitised_items = pd.DataFrame(digitised)[\n",
    "    [\"series_id\", \"series_title\", \"total_items\", \"items_digitised\", \"percent_digitised\"]\n",
    "]\n",
    "display(style_df(df_digitised_items, link_field=\"series_id\"))"
   ]
  },
  {
   "cell_type": "code",
   "execution_count": 74,
   "id": "6b837863-73af-4289-97fa-84794d975371",
   "metadata": {},
   "outputs": [
    {
     "data": {
      "text/markdown": [
       "### Digital items"
      ],
      "text/plain": [
       "<IPython.core.display.Markdown object>"
      ]
     },
     "metadata": {},
     "output_type": "display_data"
    },
    {
     "data": {
      "text/markdown": [
       "\n",
       "Items that have `format` set to `Digital` seem to be mostly born digital records – in other words, they were created as digital objects, rather than being physical records that were later digitised by scanning or imaging. These 'digital' records don't have IIIF manifests, and are encapsulated within XML files using the [VERS standard](https://prov.vic.gov.au/recordkeeping-government/a-z-topics/vers-version-3). However, it seems that there are also some digitised images amongst the digital items.\n"
      ],
      "text/plain": [
       "<IPython.core.display.Markdown object>"
      ]
     },
     "metadata": {},
     "output_type": "display_data"
    },
    {
     "data": {
      "text/html": [
       "<h4 class='alert alert-info'>There are 61,095 digital items.</h4>"
      ],
      "text/plain": [
       "<IPython.core.display.HTML object>"
      ]
     },
     "metadata": {},
     "output_type": "display_data"
    }
   ],
   "source": [
    "display(Markdown(\"### Digital items\"))\n",
    "display(\n",
    "    Markdown(\n",
    "        \"\"\"\n",
    "Items that have `format` set to `Digital` seem to be mostly born digital records – in other words, they were created as digital objects, rather than being physical records that were later digitised by scanning or imaging. These 'digital' records don't have IIIF manifests, and are encapsulated within XML files using the [VERS standard](https://prov.vic.gov.au/recordkeeping-government/a-z-topics/vers-version-3). However, it seems that there are also some digitised images amongst the digital items.\n",
    "\"\"\"\n",
    "    )\n",
    ")\n",
    "\n",
    "total_born_digital = get_total_results({\"q\": \"format:Digital AND category:Item\"})\n",
    "display(\n",
    "    HTML(\n",
    "        f\"<h4 class='alert alert-info'>There are {total_born_digital:,} digital items.</h4>\"\n",
    "    )\n",
    ")"
   ]
  },
  {
   "cell_type": "code",
   "execution_count": 120,
   "id": "82c74d57-6db2-4f37-b382-818608e178c8",
   "metadata": {},
   "outputs": [
    {
     "data": {
      "text/markdown": [
       "#### Count of digital items by decade"
      ],
      "text/plain": [
       "<IPython.core.display.Markdown object>"
      ]
     },
     "metadata": {},
     "output_type": "display_data"
    },
    {
     "data": {
      "text/markdown": [
       "This chart displays the number of digital items whose date range overlaps with each decade since 1830."
      ],
      "text/plain": [
       "<IPython.core.display.Markdown object>"
      ]
     },
     "metadata": {},
     "output_type": "display_data"
    }
   ],
   "source": [
    "display(Markdown(\"#### Count of digital items by decade\"))\n",
    "\n",
    "display(\n",
    "    Markdown(\n",
    "        \"This chart displays the number of digital items whose date range overlaps with each decade since 1830.\"\n",
    "    )\n",
    ")"
   ]
  },
  {
   "cell_type": "code",
   "execution_count": 67,
   "id": "11e28dcf-9305-4658-9605-f92380950b83",
   "metadata": {},
   "outputs": [
    {
     "data": {
      "application/vnd.jupyter.widget-view+json": {
       "model_id": "b4f46486bd9a42829637bee850f00c0c",
       "version_major": 2,
       "version_minor": 0
      },
      "text/plain": [
       "HBox(children=(Output(), Output()))"
      ]
     },
     "execution_count": 67,
     "metadata": {},
     "output_type": "execute_result"
    }
   ],
   "source": [
    "make_decade_chart(\"format:Digital AND category:Item\", \"Digital items by decade\")"
   ]
  },
  {
   "cell_type": "code",
   "execution_count": null,
   "id": "989ef54a-65d5-44d1-aff9-da18c24dca72",
   "metadata": {},
   "outputs": [],
   "source": [
    "display(Markdown(\"\"\"\n",
    "\n",
    "#### Count of digital items by series (top 20)\n",
    "\n",
    "This table shows which series contain the most digital items.\n",
    "\n",
    "\"\"\"))"
   ]
  },
  {
   "cell_type": "code",
   "execution_count": 122,
   "id": "eb7787a1-7c17-458c-ab7f-b4c5ba61c915",
   "metadata": {},
   "outputs": [
    {
     "name": "stdout",
     "output_type": "stream",
     "text": [
      "https://api.prov.vic.gov.au/search/query?facet=true&facet.field=series_id&q=format%3ADigital+AND+category%3AItem&rows=0\n"
     ]
    },
    {
     "data": {
      "text/html": [
       "<style type=\"text/css\">\n",
       "#T_81d13 th {\n",
       "  text-align: left;\n",
       "}\n",
       "#T_81d13_row0_col0, #T_81d13_row0_col1, #T_81d13_row0_col2, #T_81d13_row0_col3, #T_81d13_row0_col4, #T_81d13_row1_col0, #T_81d13_row1_col1, #T_81d13_row1_col2, #T_81d13_row1_col3, #T_81d13_row1_col4, #T_81d13_row2_col0, #T_81d13_row2_col1, #T_81d13_row2_col2, #T_81d13_row2_col3, #T_81d13_row2_col4, #T_81d13_row3_col0, #T_81d13_row3_col1, #T_81d13_row3_col2, #T_81d13_row3_col3, #T_81d13_row3_col4, #T_81d13_row4_col0, #T_81d13_row4_col1, #T_81d13_row4_col2, #T_81d13_row4_col3, #T_81d13_row4_col4, #T_81d13_row5_col0, #T_81d13_row5_col1, #T_81d13_row5_col2, #T_81d13_row5_col3, #T_81d13_row5_col4, #T_81d13_row6_col0, #T_81d13_row6_col1, #T_81d13_row6_col2, #T_81d13_row6_col3, #T_81d13_row6_col4, #T_81d13_row7_col0, #T_81d13_row7_col1, #T_81d13_row7_col2, #T_81d13_row7_col3, #T_81d13_row7_col4, #T_81d13_row8_col0, #T_81d13_row8_col1, #T_81d13_row8_col2, #T_81d13_row8_col3, #T_81d13_row8_col4, #T_81d13_row9_col0, #T_81d13_row9_col1, #T_81d13_row9_col2, #T_81d13_row9_col3, #T_81d13_row9_col4, #T_81d13_row10_col0, #T_81d13_row10_col1, #T_81d13_row10_col2, #T_81d13_row10_col3, #T_81d13_row10_col4, #T_81d13_row11_col0, #T_81d13_row11_col1, #T_81d13_row11_col2, #T_81d13_row11_col3, #T_81d13_row11_col4, #T_81d13_row12_col0, #T_81d13_row12_col1, #T_81d13_row12_col2, #T_81d13_row12_col3, #T_81d13_row12_col4, #T_81d13_row13_col0, #T_81d13_row13_col1, #T_81d13_row13_col2, #T_81d13_row13_col3, #T_81d13_row13_col4, #T_81d13_row14_col0, #T_81d13_row14_col1, #T_81d13_row14_col2, #T_81d13_row14_col3, #T_81d13_row14_col4, #T_81d13_row15_col0, #T_81d13_row15_col1, #T_81d13_row15_col2, #T_81d13_row15_col3, #T_81d13_row15_col4, #T_81d13_row16_col0, #T_81d13_row16_col1, #T_81d13_row16_col2, #T_81d13_row16_col3, #T_81d13_row16_col4, #T_81d13_row17_col0, #T_81d13_row17_col1, #T_81d13_row17_col2, #T_81d13_row17_col3, #T_81d13_row17_col4, #T_81d13_row18_col0, #T_81d13_row18_col1, #T_81d13_row18_col2, #T_81d13_row18_col3, #T_81d13_row18_col4, #T_81d13_row19_col0, #T_81d13_row19_col1, #T_81d13_row19_col2, #T_81d13_row19_col3, #T_81d13_row19_col4 {\n",
       "  text-align: left;\n",
       "}\n",
       "</style>\n",
       "<table id=\"T_81d13\">\n",
       "  <thead>\n",
       "    <tr>\n",
       "      <th id=\"T_81d13_level0_col0\" class=\"col_heading level0 col0\" >series_id</th>\n",
       "      <th id=\"T_81d13_level0_col1\" class=\"col_heading level0 col1\" >series_title</th>\n",
       "      <th id=\"T_81d13_level0_col2\" class=\"col_heading level0 col2\" >total_items</th>\n",
       "      <th id=\"T_81d13_level0_col3\" class=\"col_heading level0 col3\" >digital_items</th>\n",
       "      <th id=\"T_81d13_level0_col4\" class=\"col_heading level0 col4\" >percent_digital</th>\n",
       "    </tr>\n",
       "  </thead>\n",
       "  <tbody>\n",
       "    <tr>\n",
       "      <td id=\"T_81d13_row0_col0\" class=\"data row0 col0\" ><a href=\"https://prov.vic.gov.au/archive/VPRS15687\">VPRS15687</a></td>\n",
       "      <td id=\"T_81d13_row0_col1\" class=\"data row0 col1\" >[not found]</td>\n",
       "      <td id=\"T_81d13_row0_col2\" class=\"data row0 col2\" >22,042</td>\n",
       "      <td id=\"T_81d13_row0_col3\" class=\"data row0 col3\" >21,846</td>\n",
       "      <td id=\"T_81d13_row0_col4\" class=\"data row0 col4\" >99.11%</td>\n",
       "    </tr>\n",
       "    <tr>\n",
       "      <td id=\"T_81d13_row1_col0\" class=\"data row1 col0\" ><a href=\"https://prov.vic.gov.au/archive/VPRS16497\">VPRS16497</a></td>\n",
       "      <td id=\"T_81d13_row1_col1\" class=\"data row1 col1\" >Exhibits</td>\n",
       "      <td id=\"T_81d13_row1_col2\" class=\"data row1 col2\" >18,134</td>\n",
       "      <td id=\"T_81d13_row1_col3\" class=\"data row1 col3\" >18,134</td>\n",
       "      <td id=\"T_81d13_row1_col4\" class=\"data row1 col4\" >100.00%</td>\n",
       "    </tr>\n",
       "    <tr>\n",
       "      <td id=\"T_81d13_row2_col0\" class=\"data row2 col0\" ><a href=\"https://prov.vic.gov.au/archive/VPRS17684\">VPRS17684</a></td>\n",
       "      <td id=\"T_81d13_row2_col1\" class=\"data row2 col1\" >[not found]</td>\n",
       "      <td id=\"T_81d13_row2_col2\" class=\"data row2 col2\" >6,832</td>\n",
       "      <td id=\"T_81d13_row2_col3\" class=\"data row2 col3\" >6,716</td>\n",
       "      <td id=\"T_81d13_row2_col4\" class=\"data row2 col4\" >98.30%</td>\n",
       "    </tr>\n",
       "    <tr>\n",
       "      <td id=\"T_81d13_row3_col0\" class=\"data row3 col0\" ><a href=\"https://prov.vic.gov.au/archive/VPRS16171\">VPRS16171</a></td>\n",
       "      <td id=\"T_81d13_row3_col1\" class=\"data row3 col1\" >Regional Land Office Parish and Township Plans Digitised Reference Set</td>\n",
       "      <td id=\"T_81d13_row3_col2\" class=\"data row3 col2\" >5,091</td>\n",
       "      <td id=\"T_81d13_row3_col3\" class=\"data row3 col3\" >5,091</td>\n",
       "      <td id=\"T_81d13_row3_col4\" class=\"data row3 col4\" >100.00%</td>\n",
       "    </tr>\n",
       "    <tr>\n",
       "      <td id=\"T_81d13_row4_col0\" class=\"data row4 col0\" ><a href=\"https://prov.vic.gov.au/archive/VPRS18741\">VPRS18741</a></td>\n",
       "      <td id=\"T_81d13_row4_col1\" class=\"data row4 col1\" >[not found]</td>\n",
       "      <td id=\"T_81d13_row4_col2\" class=\"data row4 col2\" >2,462</td>\n",
       "      <td id=\"T_81d13_row4_col3\" class=\"data row4 col3\" >2,462</td>\n",
       "      <td id=\"T_81d13_row4_col4\" class=\"data row4 col4\" >100.00%</td>\n",
       "    </tr>\n",
       "    <tr>\n",
       "      <td id=\"T_81d13_row5_col0\" class=\"data row5 col0\" ><a href=\"https://prov.vic.gov.au/archive/VPRS16493\">VPRS16493</a></td>\n",
       "      <td id=\"T_81d13_row5_col1\" class=\"data row5 col1\" >[not found]</td>\n",
       "      <td id=\"T_81d13_row5_col2\" class=\"data row5 col2\" >1,686</td>\n",
       "      <td id=\"T_81d13_row5_col3\" class=\"data row5 col3\" >1,686</td>\n",
       "      <td id=\"T_81d13_row5_col4\" class=\"data row5 col4\" >100.00%</td>\n",
       "    </tr>\n",
       "    <tr>\n",
       "      <td id=\"T_81d13_row6_col0\" class=\"data row6 col0\" ><a href=\"https://prov.vic.gov.au/archive/VPRS18241\">VPRS18241</a></td>\n",
       "      <td id=\"T_81d13_row6_col1\" class=\"data row6 col1\" >Submissions [Published]</td>\n",
       "      <td id=\"T_81d13_row6_col2\" class=\"data row6 col2\" >1,665</td>\n",
       "      <td id=\"T_81d13_row6_col3\" class=\"data row6 col3\" >1,665</td>\n",
       "      <td id=\"T_81d13_row6_col4\" class=\"data row6 col4\" >100.00%</td>\n",
       "    </tr>\n",
       "    <tr>\n",
       "      <td id=\"T_81d13_row7_col0\" class=\"data row7 col0\" ><a href=\"https://prov.vic.gov.au/archive/VPRS16681\">VPRS16681</a></td>\n",
       "      <td id=\"T_81d13_row7_col1\" class=\"data row7 col1\" >2009 Victorian Bushfires Fire Recovery Photo Point Library</td>\n",
       "      <td id=\"T_81d13_row7_col2\" class=\"data row7 col2\" >1,263</td>\n",
       "      <td id=\"T_81d13_row7_col3\" class=\"data row7 col3\" >1,263</td>\n",
       "      <td id=\"T_81d13_row7_col4\" class=\"data row7 col4\" >100.00%</td>\n",
       "    </tr>\n",
       "    <tr>\n",
       "      <td id=\"T_81d13_row8_col0\" class=\"data row8 col0\" ><a href=\"https://prov.vic.gov.au/archive/VPRS18244\">VPRS18244</a></td>\n",
       "      <td id=\"T_81d13_row8_col1\" class=\"data row8 col1\" >Witness Statements [Published]</td>\n",
       "      <td id=\"T_81d13_row8_col2\" class=\"data row8 col2\" >1,145</td>\n",
       "      <td id=\"T_81d13_row8_col3\" class=\"data row8 col3\" >1,145</td>\n",
       "      <td id=\"T_81d13_row8_col4\" class=\"data row8 col4\" >100.00%</td>\n",
       "    </tr>\n",
       "    <tr>\n",
       "      <td id=\"T_81d13_row9_col0\" class=\"data row9 col0\" ><a href=\"https://prov.vic.gov.au/archive/VPRS18552\">VPRS18552</a></td>\n",
       "      <td id=\"T_81d13_row9_col1\" class=\"data row9 col1\" >Performance and Assurance Audit Reports to Parliament</td>\n",
       "      <td id=\"T_81d13_row9_col2\" class=\"data row9 col2\" >422</td>\n",
       "      <td id=\"T_81d13_row9_col3\" class=\"data row9 col3\" >422</td>\n",
       "      <td id=\"T_81d13_row9_col4\" class=\"data row9 col4\" >100.00%</td>\n",
       "    </tr>\n",
       "    <tr>\n",
       "      <td id=\"T_81d13_row10_col0\" class=\"data row10 col0\" ><a href=\"https://prov.vic.gov.au/archive/VPRS18553\">VPRS18553</a></td>\n",
       "      <td id=\"T_81d13_row10_col1\" class=\"data row10 col1\" >State Finances and Financial Audit Reports to Parliament</td>\n",
       "      <td id=\"T_81d13_row10_col2\" class=\"data row10 col2\" >169</td>\n",
       "      <td id=\"T_81d13_row10_col3\" class=\"data row10 col3\" >169</td>\n",
       "      <td id=\"T_81d13_row10_col4\" class=\"data row10 col4\" >100.00%</td>\n",
       "    </tr>\n",
       "    <tr>\n",
       "      <td id=\"T_81d13_row11_col0\" class=\"data row11 col0\" ><a href=\"https://prov.vic.gov.au/archive/VPRS16295\">VPRS16295</a></td>\n",
       "      <td id=\"T_81d13_row11_col1\" class=\"data row11 col1\" >[not found]</td>\n",
       "      <td id=\"T_81d13_row11_col2\" class=\"data row11 col2\" >85</td>\n",
       "      <td id=\"T_81d13_row11_col3\" class=\"data row11 col3\" >74</td>\n",
       "      <td id=\"T_81d13_row11_col4\" class=\"data row11 col4\" >87.06%</td>\n",
       "    </tr>\n",
       "    <tr>\n",
       "      <td id=\"T_81d13_row12_col0\" class=\"data row12 col0\" ><a href=\"https://prov.vic.gov.au/archive/VPRS15048\">VPRS15048</a></td>\n",
       "      <td id=\"T_81d13_row12_col1\" class=\"data row12 col1\" >[not found]</td>\n",
       "      <td id=\"T_81d13_row12_col2\" class=\"data row12 col2\" >539</td>\n",
       "      <td id=\"T_81d13_row12_col3\" class=\"data row12 col3\" >71</td>\n",
       "      <td id=\"T_81d13_row12_col4\" class=\"data row12 col4\" >13.17%</td>\n",
       "    </tr>\n",
       "    <tr>\n",
       "      <td id=\"T_81d13_row13_col0\" class=\"data row13 col0\" ><a href=\"https://prov.vic.gov.au/archive/VPRS18243\">VPRS18243</a></td>\n",
       "      <td id=\"T_81d13_row13_col1\" class=\"data row13 col1\" >Transcripts [Published]</td>\n",
       "      <td id=\"T_81d13_row13_col2\" class=\"data row13 col2\" >50</td>\n",
       "      <td id=\"T_81d13_row13_col3\" class=\"data row13 col3\" >50</td>\n",
       "      <td id=\"T_81d13_row13_col4\" class=\"data row13 col4\" >100.00%</td>\n",
       "    </tr>\n",
       "    <tr>\n",
       "      <td id=\"T_81d13_row14_col0\" class=\"data row14 col0\" ><a href=\"https://prov.vic.gov.au/archive/VPRS18248\">VPRS18248</a></td>\n",
       "      <td id=\"T_81d13_row14_col1\" class=\"data row14 col1\" >Final Report</td>\n",
       "      <td id=\"T_81d13_row14_col2\" class=\"data row14 col2\" >39</td>\n",
       "      <td id=\"T_81d13_row14_col3\" class=\"data row14 col3\" >39</td>\n",
       "      <td id=\"T_81d13_row14_col4\" class=\"data row14 col4\" >100.00%</td>\n",
       "    </tr>\n",
       "    <tr>\n",
       "      <td id=\"T_81d13_row15_col0\" class=\"data row15 col0\" ><a href=\"https://prov.vic.gov.au/archive/VPRS19313\">VPRS19313</a></td>\n",
       "      <td id=\"T_81d13_row15_col1\" class=\"data row15 col1\" >Deadly Questions Campaign - Website Video Content</td>\n",
       "      <td id=\"T_81d13_row15_col2\" class=\"data row15 col2\" >38</td>\n",
       "      <td id=\"T_81d13_row15_col3\" class=\"data row15 col3\" >38</td>\n",
       "      <td id=\"T_81d13_row15_col4\" class=\"data row15 col4\" >100.00%</td>\n",
       "    </tr>\n",
       "    <tr>\n",
       "      <td id=\"T_81d13_row16_col0\" class=\"data row16 col0\" ><a href=\"https://prov.vic.gov.au/archive/VPRS18246\">VPRS18246</a></td>\n",
       "      <td id=\"T_81d13_row16_col1\" class=\"data row16 col1\" >Media Releases</td>\n",
       "      <td id=\"T_81d13_row16_col2\" class=\"data row16 col2\" >32</td>\n",
       "      <td id=\"T_81d13_row16_col3\" class=\"data row16 col3\" >32</td>\n",
       "      <td id=\"T_81d13_row16_col4\" class=\"data row16 col4\" >100.00%</td>\n",
       "    </tr>\n",
       "    <tr>\n",
       "      <td id=\"T_81d13_row17_col0\" class=\"data row17 col0\" ><a href=\"https://prov.vic.gov.au/archive/VPRS18245\">VPRS18245</a></td>\n",
       "      <td id=\"T_81d13_row17_col1\" class=\"data row17 col1\" >Terms of Reference and Procedural Records [Published]</td>\n",
       "      <td id=\"T_81d13_row17_col2\" class=\"data row17 col2\" >26</td>\n",
       "      <td id=\"T_81d13_row17_col3\" class=\"data row17 col3\" >26</td>\n",
       "      <td id=\"T_81d13_row17_col4\" class=\"data row17 col4\" >100.00%</td>\n",
       "    </tr>\n",
       "    <tr>\n",
       "      <td id=\"T_81d13_row18_col0\" class=\"data row18 col0\" ><a href=\"https://prov.vic.gov.au/archive/VPRS19731\">VPRS19731</a></td>\n",
       "      <td id=\"T_81d13_row18_col1\" class=\"data row18 col1\" >Historic Photographic Collection, Prints</td>\n",
       "      <td id=\"T_81d13_row18_col2\" class=\"data row18 col2\" >1,377</td>\n",
       "      <td id=\"T_81d13_row18_col3\" class=\"data row18 col3\" >26</td>\n",
       "      <td id=\"T_81d13_row18_col4\" class=\"data row18 col4\" >1.89%</td>\n",
       "    </tr>\n",
       "    <tr>\n",
       "      <td id=\"T_81d13_row19_col0\" class=\"data row19 col0\" ><a href=\"https://prov.vic.gov.au/archive/VPRS19311\">VPRS19311</a></td>\n",
       "      <td id=\"T_81d13_row19_col1\" class=\"data row19 col1\" >Deadly and Proud Campaign - Website Video Content</td>\n",
       "      <td id=\"T_81d13_row19_col2\" class=\"data row19 col2\" >24</td>\n",
       "      <td id=\"T_81d13_row19_col3\" class=\"data row19 col3\" >24</td>\n",
       "      <td id=\"T_81d13_row19_col4\" class=\"data row19 col4\" >100.00%</td>\n",
       "    </tr>\n",
       "  </tbody>\n",
       "</table>\n"
      ],
      "text/plain": [
       "<pandas.io.formats.style.Styler at 0x788dd7341450>"
      ]
     },
     "metadata": {},
     "output_type": "display_data"
    }
   ],
   "source": [
    "digitised = []\n",
    "for facet in get_series_facets(\"format:Digital AND category:Item\", \"digital_items\")[\n",
    "    :20\n",
    "]:\n",
    "    try:\n",
    "        series = get_series(facet[\"series_id\"])\n",
    "    except IndexError:\n",
    "        facet[\"series_title\"] = \"[not found]\"\n",
    "    else:\n",
    "        facet[\"series_title\"] = series[\"title\"]\n",
    "    total_items = count_items_in_series(facet[\"series_id\"], \"Item\")\n",
    "    percent = facet[\"digital_items\"] / total_items\n",
    "    facet[\"series_id\"] = f\"VPRS{facet['series_id']}\"\n",
    "    facet[\"total_items\"] = total_items\n",
    "    facet[\"percent_digital\"] = f\"{percent:.2%}\"\n",
    "    digitised.append(facet)\n",
    "df_digitised_items = pd.DataFrame(digitised)[\n",
    "    [\"series_id\", \"series_title\", \"total_items\", \"digital_items\", \"percent_digital\"]\n",
    "]\n",
    "display(style_df(df_digitised_items, link_field=\"series_id\"))"
   ]
  },
  {
   "cell_type": "code",
   "execution_count": 80,
   "id": "92ce8062-e4bb-4b33-8dde-7b3263fa7424",
   "metadata": {},
   "outputs": [
    {
     "data": {
      "text/markdown": [
       "## Images"
      ],
      "text/plain": [
       "<IPython.core.display.Markdown object>"
      ]
     },
     "metadata": {},
     "output_type": "display_data"
    },
    {
     "data": {
      "text/markdown": [
       "\n",
       "There are a large number of results that have `category` set to `Image`. These 'image' records don't seem to be defined in the [PROV Archival Control Model](https://prov.vic.gov.au/recordkeeping-government/a-z-topics/archival-control-model). The 'image' records describe individual pages from digitised items, attaching additional metadata such as the name of a person mentioned on that page. This means there can be multiple image records for a single page if, for example, the page includes a list of names.\n"
      ],
      "text/plain": [
       "<IPython.core.display.Markdown object>"
      ]
     },
     "metadata": {},
     "output_type": "display_data"
    },
    {
     "data": {
      "text/html": [
       "<h4 class='alert alert-info'>There are 3,613,751 images.</h4>"
      ],
      "text/plain": [
       "<IPython.core.display.HTML object>"
      ]
     },
     "metadata": {},
     "output_type": "display_data"
    }
   ],
   "source": [
    "display(\n",
    "    Markdown(\n",
    "        \"\"\"\n",
    "----\n",
    "\n",
    "## Images\n",
    "        \n",
    "There are a large number of results that have `category` set to `Image`. These 'image' records don't seem to be defined in the [PROV Archival Control Model](https://prov.vic.gov.au/recordkeeping-government/a-z-topics/archival-control-model). The 'image' records describe individual pages from digitised items, attaching additional metadata such as the name of a person mentioned on that page. This means there can be multiple image records for a single page if, for example, the page includes a list of names.\n",
    "\"\"\"\n",
    "    )\n",
    ")\n",
    "\n",
    "total_images = get_total_results({\"q\": \"category:Image\"})\n",
    "display(HTML(f\"<h4 class='alert alert-info'>There are {total_images:,} images.</h4>\"))"
   ]
  },
  {
   "cell_type": "code",
   "execution_count": null,
   "id": "704e7831-1631-4495-91ba-886fe541e649",
   "metadata": {},
   "outputs": [],
   "source": [
    "display(Markdown(\"\"\"\n",
    "\n",
    "#### Count of images by series (top 20)\n",
    "\n",
    "This table shows which series contain the most images.\n",
    "\n",
    "\"\"\"))"
   ]
  },
  {
   "cell_type": "code",
   "execution_count": 87,
   "id": "692a099c-88ec-48fb-bd28-93b17a805f17",
   "metadata": {},
   "outputs": [
    {
     "data": {
      "text/html": [
       "<style type=\"text/css\">\n",
       "#T_4a3d7 th {\n",
       "  text-align: left;\n",
       "}\n",
       "#T_4a3d7_row0_col0, #T_4a3d7_row0_col1, #T_4a3d7_row0_col2, #T_4a3d7_row0_col3, #T_4a3d7_row1_col0, #T_4a3d7_row1_col1, #T_4a3d7_row1_col2, #T_4a3d7_row1_col3, #T_4a3d7_row2_col0, #T_4a3d7_row2_col1, #T_4a3d7_row2_col2, #T_4a3d7_row2_col3, #T_4a3d7_row3_col0, #T_4a3d7_row3_col1, #T_4a3d7_row3_col2, #T_4a3d7_row3_col3, #T_4a3d7_row4_col0, #T_4a3d7_row4_col1, #T_4a3d7_row4_col2, #T_4a3d7_row4_col3, #T_4a3d7_row5_col0, #T_4a3d7_row5_col1, #T_4a3d7_row5_col2, #T_4a3d7_row5_col3, #T_4a3d7_row6_col0, #T_4a3d7_row6_col1, #T_4a3d7_row6_col2, #T_4a3d7_row6_col3, #T_4a3d7_row7_col0, #T_4a3d7_row7_col1, #T_4a3d7_row7_col2, #T_4a3d7_row7_col3, #T_4a3d7_row8_col0, #T_4a3d7_row8_col1, #T_4a3d7_row8_col2, #T_4a3d7_row8_col3, #T_4a3d7_row9_col0, #T_4a3d7_row9_col1, #T_4a3d7_row9_col2, #T_4a3d7_row9_col3, #T_4a3d7_row10_col0, #T_4a3d7_row10_col1, #T_4a3d7_row10_col2, #T_4a3d7_row10_col3 {\n",
       "  text-align: left;\n",
       "}\n",
       "</style>\n",
       "<table id=\"T_4a3d7\">\n",
       "  <thead>\n",
       "    <tr>\n",
       "      <th id=\"T_4a3d7_level0_col0\" class=\"col_heading level0 col0\" >series_id</th>\n",
       "      <th id=\"T_4a3d7_level0_col1\" class=\"col_heading level0 col1\" >series_title</th>\n",
       "      <th id=\"T_4a3d7_level0_col2\" class=\"col_heading level0 col2\" >digitised_items</th>\n",
       "      <th id=\"T_4a3d7_level0_col3\" class=\"col_heading level0 col3\" >total_images</th>\n",
       "    </tr>\n",
       "  </thead>\n",
       "  <tbody>\n",
       "    <tr>\n",
       "      <td id=\"T_4a3d7_row0_col0\" class=\"data row0 col0\" ><a href=\"https://prov.vic.gov.au/archive/VPRS948\">VPRS948</a></td>\n",
       "      <td id=\"T_4a3d7_row0_col1\" class=\"data row0 col1\" >Outward Passengers to Interstate, U.K. and Foreign Ports (Refer to Microfilm Copy VPRS 3506)</td>\n",
       "      <td id=\"T_4a3d7_row0_col2\" class=\"data row0 col2\" >246</td>\n",
       "      <td id=\"T_4a3d7_row0_col3\" class=\"data row0 col3\" >1,661,194</td>\n",
       "    </tr>\n",
       "    <tr>\n",
       "      <td id=\"T_4a3d7_row1_col0\" class=\"data row1 col0\" ><a href=\"https://prov.vic.gov.au/archive/VPRS947\">VPRS947</a></td>\n",
       "      <td id=\"T_4a3d7_row1_col1\" class=\"data row1 col1\" >Inward Overseas Passenger Lists (see Microfiche Copies: VPRS 7666 United Kingdom Ports; VPRS 7667 Foreign Ports; VPRS 13439 New Zealand Ports)</td>\n",
       "      <td id=\"T_4a3d7_row1_col2\" class=\"data row1 col2\" >267</td>\n",
       "      <td id=\"T_4a3d7_row1_col3\" class=\"data row1 col3\" >1,608,518</td>\n",
       "    </tr>\n",
       "    <tr>\n",
       "      <td id=\"T_4a3d7_row2_col0\" class=\"data row2 col0\" ><a href=\"https://prov.vic.gov.au/archive/VPRS14\">VPRS14</a></td>\n",
       "      <td id=\"T_4a3d7_row2_col1\" class=\"data row2 col1\" >Register of Assisted Immigrants from the United Kingdom [refer to microform copy, VPRS 3502]</td>\n",
       "      <td id=\"T_4a3d7_row2_col2\" class=\"data row2 col2\" >20</td>\n",
       "      <td id=\"T_4a3d7_row2_col3\" class=\"data row2 col3\" >173,167</td>\n",
       "    </tr>\n",
       "    <tr>\n",
       "      <td id=\"T_4a3d7_row3_col0\" class=\"data row3 col0\" ><a href=\"https://prov.vic.gov.au/archive/VPRS4527\">VPRS4527</a></td>\n",
       "      <td id=\"T_4a3d7_row3_col1\" class=\"data row3 col1\" >Ward Register (known as Children's Registers 1864 - 1887)</td>\n",
       "      <td id=\"T_4a3d7_row3_col2\" class=\"data row3 col2\" >156</td>\n",
       "      <td id=\"T_4a3d7_row3_col3\" class=\"data row3 col3\" >55,431</td>\n",
       "    </tr>\n",
       "    <tr>\n",
       "      <td id=\"T_4a3d7_row4_col0\" class=\"data row4 col0\" ><a href=\"https://prov.vic.gov.au/archive/VPRS13579\">VPRS13579</a></td>\n",
       "      <td id=\"T_4a3d7_row4_col1\" class=\"data row4 col1\" >Teacher Record Books</td>\n",
       "      <td id=\"T_4a3d7_row4_col2\" class=\"data row4 col2\" >153</td>\n",
       "      <td id=\"T_4a3d7_row4_col3\" class=\"data row4 col3\" >49,106</td>\n",
       "    </tr>\n",
       "    <tr>\n",
       "      <td id=\"T_4a3d7_row5_col0\" class=\"data row5 col0\" ><a href=\"https://prov.vic.gov.au/archive/VPRS515\">VPRS515</a></td>\n",
       "      <td id=\"T_4a3d7_row5_col1\" class=\"data row5 col1\" >Central Register of Male Prisoners</td>\n",
       "      <td id=\"T_4a3d7_row5_col2\" class=\"data row5 col2\" >100</td>\n",
       "      <td id=\"T_4a3d7_row5_col3\" class=\"data row5 col3\" >44,285</td>\n",
       "    </tr>\n",
       "    <tr>\n",
       "      <td id=\"T_4a3d7_row6_col0\" class=\"data row6 col0\" ><a href=\"https://prov.vic.gov.au/archive/VPRS5714\">VPRS5714</a></td>\n",
       "      <td id=\"T_4a3d7_row6_col1\" class=\"data row6 col1\" >Land Selection Files, Section 12 Closer Settlement Act 1938 [including obsolete and top numbered Closer Settlement and WW1 Discharged Soldier Settlement files]</td>\n",
       "      <td id=\"T_4a3d7_row6_col2\" class=\"data row6 col2\" >5,823</td>\n",
       "      <td id=\"T_4a3d7_row6_col3\" class=\"data row6 col3\" >7,721</td>\n",
       "    </tr>\n",
       "    <tr>\n",
       "      <td id=\"T_4a3d7_row7_col0\" class=\"data row7 col0\" ><a href=\"https://prov.vic.gov.au/archive/VPRS8168\">VPRS8168</a></td>\n",
       "      <td id=\"T_4a3d7_row7_col1\" class=\"data row7 col1\" >Historic Plan Collection</td>\n",
       "      <td id=\"T_4a3d7_row7_col2\" class=\"data row7 col2\" >10,932</td>\n",
       "      <td id=\"T_4a3d7_row7_col3\" class=\"data row7 col3\" >7,182</td>\n",
       "    </tr>\n",
       "    <tr>\n",
       "      <td id=\"T_4a3d7_row8_col0\" class=\"data row8 col0\" ><a href=\"https://prov.vic.gov.au/archive/VPRS516\">VPRS516</a></td>\n",
       "      <td id=\"T_4a3d7_row8_col1\" class=\"data row8 col1\" >Central Register of Female Prisoners</td>\n",
       "      <td id=\"T_4a3d7_row8_col2\" class=\"data row8 col2\" >15</td>\n",
       "      <td id=\"T_4a3d7_row8_col3\" class=\"data row8 col3\" >6,782</td>\n",
       "    </tr>\n",
       "    <tr>\n",
       "      <td id=\"T_4a3d7_row9_col0\" class=\"data row9 col0\" ><a href=\"https://prov.vic.gov.au/archive/VPRS5357\">VPRS5357</a></td>\n",
       "      <td id=\"T_4a3d7_row9_col1\" class=\"data row9 col1\" >Land Selection And Correspondence Files</td>\n",
       "      <td id=\"T_4a3d7_row9_col2\" class=\"data row9 col2\" >491</td>\n",
       "      <td id=\"T_4a3d7_row9_col3\" class=\"data row9 col3\" >322</td>\n",
       "    </tr>\n",
       "    <tr>\n",
       "      <td id=\"T_4a3d7_row10_col0\" class=\"data row10 col0\" ><a href=\"https://prov.vic.gov.au/archive/VPRS12758\">VPRS12758</a></td>\n",
       "      <td id=\"T_4a3d7_row10_col1\" class=\"data row10 col1\" >Index Map Book</td>\n",
       "      <td id=\"T_4a3d7_row10_col2\" class=\"data row10 col2\" >1</td>\n",
       "      <td id=\"T_4a3d7_row10_col3\" class=\"data row10 col3\" >43</td>\n",
       "    </tr>\n",
       "  </tbody>\n",
       "</table>\n"
      ],
      "text/plain": [
       "<pandas.io.formats.style.Styler at 0x788dd7341ae0>"
      ]
     },
     "metadata": {},
     "output_type": "display_data"
    }
   ],
   "source": [
    "digitised = []\n",
    "for facet in get_series_facets(\"category:Image\", \"total_images\")[:20]:\n",
    "    series = get_series(facet[\"series_id\"])\n",
    "    digitised_items = get_total_results(\n",
    "        {\n",
    "            \"q\": f\"category:Item AND series_id:{facet['series_id']} AND iiif-manifest:[* TO *]\"\n",
    "        }\n",
    "    )\n",
    "    facet[\"series_id\"] = f\"VPRS{facet['series_id']}\"\n",
    "    facet[\"series_title\"] = series[\"title\"]\n",
    "    facet[\"digitised_items\"] = digitised_items\n",
    "    digitised.append(facet)\n",
    "df_digitised_images = pd.DataFrame(digitised)[\n",
    "    [\"series_id\", \"series_title\", \"digitised_items\", \"total_images\"]\n",
    "]\n",
    "display(style_df(df_digitised_images, link_field=\"series_id\"))"
   ]
  },
  {
   "cell_type": "code",
   "execution_count": 125,
   "id": "601ec650-422c-4629-a735-fc29e112ac7b",
   "metadata": {},
   "outputs": [
    {
     "data": {
      "text/markdown": [
       "\n",
       "\n",
       "----\n",
       "\n",
       "Created by [Tim Sherratt](https://timsherratt.au) for the [GLAM Workbench](https://glam-workbench.net).\n",
       "\n",
       "Data from the PROV API is available under a CC-BY-NC licence.\n"
      ],
      "text/plain": [
       "<IPython.core.display.Markdown object>"
      ]
     },
     "metadata": {},
     "output_type": "display_data"
    }
   ],
   "source": [
    "display(Markdown(\"\"\"\n",
    "\n",
    "----\n",
    "\n",
    "Created by [Tim Sherratt](https://timsherratt.au) for the [GLAM Workbench](https://glam-workbench.net).\n",
    "\n",
    "Data from the PROV API is available under a CC-BY-NC licence.\n",
    "\"\"\"))"
   ]
  },
  {
   "cell_type": "code",
   "execution_count": null,
   "id": "f1405e94-3186-411d-b6e5-c96595fcf2eb",
   "metadata": {},
   "outputs": [],
   "source": []
  }
 ],
 "metadata": {
  "kernelspec": {
   "display_name": "Python 3 (ipykernel)",
   "language": "python",
   "name": "python3"
  },
  "language_info": {
   "codemirror_mode": {
    "name": "ipython",
    "version": 3
   },
   "file_extension": ".py",
   "mimetype": "text/x-python",
   "name": "python",
   "nbconvert_exporter": "python",
   "pygments_lexer": "ipython3",
   "version": "3.10.12"
  },
  "voila": {
   "template": "material"
  }
 },
 "nbformat": 4,
 "nbformat_minor": 5
}
